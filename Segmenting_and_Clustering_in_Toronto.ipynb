{
  "nbformat": 4,
  "nbformat_minor": 0,
  "metadata": {
    "colab": {
      "name": "Segmenting and Clustering in Toronto",
      "provenance": [],
      "collapsed_sections": [],
      "include_colab_link": true
    },
    "kernelspec": {
      "name": "python3",
      "display_name": "Python 3"
    }
  },
  "cells": [
    {
      "cell_type": "markdown",
      "metadata": {
        "id": "view-in-github",
        "colab_type": "text"
      },
      "source": [
        "<a href=\"https://colab.research.google.com/github/isJC/Capstone_Project/blob/master/Segmenting_and_Clustering_in_Toronto.ipynb\" target=\"_parent\"><img src=\"https://colab.research.google.com/assets/colab-badge.svg\" alt=\"Open In Colab\"/></a>"
      ]
    },
    {
      "cell_type": "markdown",
      "metadata": {
        "id": "6qfAPENJjB76",
        "colab_type": "text"
      },
      "source": [
        "#Part 1 ----"
      ]
    },
    {
      "cell_type": "code",
      "metadata": {
        "id": "B2hoK_ruOwfD",
        "colab_type": "code",
        "outputId": "05b506d6-9fbe-4aec-a241-11d311ba6595",
        "colab": {
          "base_uri": "https://localhost:8080/",
          "height": 34
        }
      },
      "source": [
        "#setup libraries\n",
        "import pandas as pd\n",
        "import numpy as np\n",
        "import requests\n",
        "from bs4 import BeautifulSoup\n",
        "\n",
        "print(\"Setup Complete\")"
      ],
      "execution_count": 0,
      "outputs": [
        {
          "output_type": "stream",
          "text": [
            "Setup Complete\n"
          ],
          "name": "stdout"
        }
      ]
    },
    {
      "cell_type": "code",
      "metadata": {
        "id": "aRpa47EnO_rK",
        "colab_type": "code",
        "outputId": "7a7b5841-b045-46a1-e6e4-b0a26f255361",
        "colab": {
          "base_uri": "https://localhost:8080/",
          "height": 34
        }
      },
      "source": [
        "#Setup file\n",
        "url = requests.get(\"https://en.wikipedia.org/wiki/List_of_postal_codes_of_Canada:_M\").text\n",
        "soup = BeautifulSoup(url, 'html.parser')\n",
        "\n",
        "print(\"Setup File Request Complete\")"
      ],
      "execution_count": 0,
      "outputs": [
        {
          "output_type": "stream",
          "text": [
            "Setup File Request Complete\n"
          ],
          "name": "stdout"
        }
      ]
    },
    {
      "cell_type": "code",
      "metadata": {
        "id": "XTCZeUhrPBo7",
        "colab_type": "code",
        "outputId": "ac78961e-6d24-4384-c779-0caa9282fcaf",
        "colab": {
          "base_uri": "https://localhost:8080/",
          "height": 235
        }
      },
      "source": [
        "#Scrape table\n",
        "table = soup.find_all('table', class_=\"wikitable sortable\")\n",
        "df = pd.read_html(str(table))[0]\n",
        "\n",
        "#drop rows of Borough with \"Not assigned\" values\n",
        "df = df[df.Borough != 'Not assigned']\n",
        "\n",
        "#Groupby Postcode and joined Neighourhood with the same postcode\n",
        "df=df.groupby('Postcode').agg(lambda x: ' , '.join(set(x)))\n",
        "\n",
        "df.head()"
      ],
      "execution_count": 0,
      "outputs": [
        {
          "output_type": "execute_result",
          "data": {
            "text/html": [
              "<div>\n",
              "<style scoped>\n",
              "    .dataframe tbody tr th:only-of-type {\n",
              "        vertical-align: middle;\n",
              "    }\n",
              "\n",
              "    .dataframe tbody tr th {\n",
              "        vertical-align: top;\n",
              "    }\n",
              "\n",
              "    .dataframe thead th {\n",
              "        text-align: right;\n",
              "    }\n",
              "</style>\n",
              "<table border=\"1\" class=\"dataframe\">\n",
              "  <thead>\n",
              "    <tr style=\"text-align: right;\">\n",
              "      <th></th>\n",
              "      <th>Borough</th>\n",
              "      <th>Neighbourhood</th>\n",
              "    </tr>\n",
              "    <tr>\n",
              "      <th>Postcode</th>\n",
              "      <th></th>\n",
              "      <th></th>\n",
              "    </tr>\n",
              "  </thead>\n",
              "  <tbody>\n",
              "    <tr>\n",
              "      <th>M1B</th>\n",
              "      <td>Scarborough</td>\n",
              "      <td>Rouge , Malvern</td>\n",
              "    </tr>\n",
              "    <tr>\n",
              "      <th>M1C</th>\n",
              "      <td>Scarborough</td>\n",
              "      <td>Rouge Hill , Port Union , Highland Creek</td>\n",
              "    </tr>\n",
              "    <tr>\n",
              "      <th>M1E</th>\n",
              "      <td>Scarborough</td>\n",
              "      <td>Guildwood , Morningside , West Hill</td>\n",
              "    </tr>\n",
              "    <tr>\n",
              "      <th>M1G</th>\n",
              "      <td>Scarborough</td>\n",
              "      <td>Woburn</td>\n",
              "    </tr>\n",
              "    <tr>\n",
              "      <th>M1H</th>\n",
              "      <td>Scarborough</td>\n",
              "      <td>Cedarbrae</td>\n",
              "    </tr>\n",
              "  </tbody>\n",
              "</table>\n",
              "</div>"
            ],
            "text/plain": [
              "              Borough                             Neighbourhood\n",
              "Postcode                                                       \n",
              "M1B       Scarborough                           Rouge , Malvern\n",
              "M1C       Scarborough  Rouge Hill , Port Union , Highland Creek\n",
              "M1E       Scarborough       Guildwood , Morningside , West Hill\n",
              "M1G       Scarborough                                    Woburn\n",
              "M1H       Scarborough                                 Cedarbrae"
            ]
          },
          "metadata": {
            "tags": []
          },
          "execution_count": 3
        }
      ]
    },
    {
      "cell_type": "code",
      "metadata": {
        "id": "z4zSUDo2O0Fl",
        "colab_type": "code",
        "outputId": "20ea2240-b5a8-40d1-9df8-71302bcbe20a",
        "colab": {
          "base_uri": "https://localhost:8080/",
          "height": 111
        }
      },
      "source": [
        "#Find rows that have \"Not assigned\" in Neighbourhood\n",
        "df.loc[df['Neighbourhood'] == \"Not assigned\"]"
      ],
      "execution_count": 0,
      "outputs": [
        {
          "output_type": "execute_result",
          "data": {
            "text/html": [
              "<div>\n",
              "<style scoped>\n",
              "    .dataframe tbody tr th:only-of-type {\n",
              "        vertical-align: middle;\n",
              "    }\n",
              "\n",
              "    .dataframe tbody tr th {\n",
              "        vertical-align: top;\n",
              "    }\n",
              "\n",
              "    .dataframe thead th {\n",
              "        text-align: right;\n",
              "    }\n",
              "</style>\n",
              "<table border=\"1\" class=\"dataframe\">\n",
              "  <thead>\n",
              "    <tr style=\"text-align: right;\">\n",
              "      <th></th>\n",
              "      <th>Borough</th>\n",
              "      <th>Neighbourhood</th>\n",
              "    </tr>\n",
              "    <tr>\n",
              "      <th>Postcode</th>\n",
              "      <th></th>\n",
              "      <th></th>\n",
              "    </tr>\n",
              "  </thead>\n",
              "  <tbody>\n",
              "    <tr>\n",
              "      <th>M7A</th>\n",
              "      <td>Queen's Park</td>\n",
              "      <td>Not assigned</td>\n",
              "    </tr>\n",
              "  </tbody>\n",
              "</table>\n",
              "</div>"
            ],
            "text/plain": [
              "               Borough Neighbourhood\n",
              "Postcode                            \n",
              "M7A       Queen's Park  Not assigned"
            ]
          },
          "metadata": {
            "tags": []
          },
          "execution_count": 4
        }
      ]
    },
    {
      "cell_type": "code",
      "metadata": {
        "id": "_RMai5KzPGva",
        "colab_type": "code",
        "outputId": "a8784212-e742-438c-afff-4fae048f4ee7",
        "colab": {
          "base_uri": "https://localhost:8080/",
          "height": 204
        }
      },
      "source": [
        "#replace with the Borough's name\n",
        "df.replace(\"Not assigned\", \"Queen\\'s Park\", inplace = True)\n",
        "#reset index\n",
        "df1 = df.reset_index()\n",
        "df1.head()"
      ],
      "execution_count": 0,
      "outputs": [
        {
          "output_type": "execute_result",
          "data": {
            "text/html": [
              "<div>\n",
              "<style scoped>\n",
              "    .dataframe tbody tr th:only-of-type {\n",
              "        vertical-align: middle;\n",
              "    }\n",
              "\n",
              "    .dataframe tbody tr th {\n",
              "        vertical-align: top;\n",
              "    }\n",
              "\n",
              "    .dataframe thead th {\n",
              "        text-align: right;\n",
              "    }\n",
              "</style>\n",
              "<table border=\"1\" class=\"dataframe\">\n",
              "  <thead>\n",
              "    <tr style=\"text-align: right;\">\n",
              "      <th></th>\n",
              "      <th>Postcode</th>\n",
              "      <th>Borough</th>\n",
              "      <th>Neighbourhood</th>\n",
              "    </tr>\n",
              "  </thead>\n",
              "  <tbody>\n",
              "    <tr>\n",
              "      <th>0</th>\n",
              "      <td>M1B</td>\n",
              "      <td>Scarborough</td>\n",
              "      <td>Rouge , Malvern</td>\n",
              "    </tr>\n",
              "    <tr>\n",
              "      <th>1</th>\n",
              "      <td>M1C</td>\n",
              "      <td>Scarborough</td>\n",
              "      <td>Rouge Hill , Port Union , Highland Creek</td>\n",
              "    </tr>\n",
              "    <tr>\n",
              "      <th>2</th>\n",
              "      <td>M1E</td>\n",
              "      <td>Scarborough</td>\n",
              "      <td>Guildwood , Morningside , West Hill</td>\n",
              "    </tr>\n",
              "    <tr>\n",
              "      <th>3</th>\n",
              "      <td>M1G</td>\n",
              "      <td>Scarborough</td>\n",
              "      <td>Woburn</td>\n",
              "    </tr>\n",
              "    <tr>\n",
              "      <th>4</th>\n",
              "      <td>M1H</td>\n",
              "      <td>Scarborough</td>\n",
              "      <td>Cedarbrae</td>\n",
              "    </tr>\n",
              "  </tbody>\n",
              "</table>\n",
              "</div>"
            ],
            "text/plain": [
              "  Postcode      Borough                             Neighbourhood\n",
              "0      M1B  Scarborough                           Rouge , Malvern\n",
              "1      M1C  Scarborough  Rouge Hill , Port Union , Highland Creek\n",
              "2      M1E  Scarborough       Guildwood , Morningside , West Hill\n",
              "3      M1G  Scarborough                                    Woburn\n",
              "4      M1H  Scarborough                                 Cedarbrae"
            ]
          },
          "metadata": {
            "tags": []
          },
          "execution_count": 5
        }
      ]
    },
    {
      "cell_type": "code",
      "metadata": {
        "id": "KZhlzYXiPJnB",
        "colab_type": "code",
        "outputId": "bdc71ad5-55b0-441b-d18f-0b7907cebe4d",
        "colab": {
          "base_uri": "https://localhost:8080/",
          "height": 34
        }
      },
      "source": [
        "df1.shape"
      ],
      "execution_count": 0,
      "outputs": [
        {
          "output_type": "execute_result",
          "data": {
            "text/plain": [
              "(103, 3)"
            ]
          },
          "metadata": {
            "tags": []
          },
          "execution_count": 6
        }
      ]
    },
    {
      "cell_type": "markdown",
      "metadata": {
        "id": "V_UEhznjPWBp",
        "colab_type": "text"
      },
      "source": [
        "# Part 2 ----"
      ]
    },
    {
      "cell_type": "code",
      "metadata": {
        "id": "2LJIDViUPNLC",
        "colab_type": "code",
        "outputId": "1ac2d939-a753-4964-a3ac-f927c40b56b4",
        "colab": {
          "base_uri": "https://localhost:8080/",
          "height": 204
        }
      },
      "source": [
        "#Setup file\n",
        "url = \"http://cocl.us/Geospatial_data\"\n",
        "\n",
        "dfGeo = pd.read_csv(url)\n",
        "dfGeo.head()"
      ],
      "execution_count": 0,
      "outputs": [
        {
          "output_type": "execute_result",
          "data": {
            "text/html": [
              "<div>\n",
              "<style scoped>\n",
              "    .dataframe tbody tr th:only-of-type {\n",
              "        vertical-align: middle;\n",
              "    }\n",
              "\n",
              "    .dataframe tbody tr th {\n",
              "        vertical-align: top;\n",
              "    }\n",
              "\n",
              "    .dataframe thead th {\n",
              "        text-align: right;\n",
              "    }\n",
              "</style>\n",
              "<table border=\"1\" class=\"dataframe\">\n",
              "  <thead>\n",
              "    <tr style=\"text-align: right;\">\n",
              "      <th></th>\n",
              "      <th>Postal Code</th>\n",
              "      <th>Latitude</th>\n",
              "      <th>Longitude</th>\n",
              "    </tr>\n",
              "  </thead>\n",
              "  <tbody>\n",
              "    <tr>\n",
              "      <th>0</th>\n",
              "      <td>M1B</td>\n",
              "      <td>43.806686</td>\n",
              "      <td>-79.194353</td>\n",
              "    </tr>\n",
              "    <tr>\n",
              "      <th>1</th>\n",
              "      <td>M1C</td>\n",
              "      <td>43.784535</td>\n",
              "      <td>-79.160497</td>\n",
              "    </tr>\n",
              "    <tr>\n",
              "      <th>2</th>\n",
              "      <td>M1E</td>\n",
              "      <td>43.763573</td>\n",
              "      <td>-79.188711</td>\n",
              "    </tr>\n",
              "    <tr>\n",
              "      <th>3</th>\n",
              "      <td>M1G</td>\n",
              "      <td>43.770992</td>\n",
              "      <td>-79.216917</td>\n",
              "    </tr>\n",
              "    <tr>\n",
              "      <th>4</th>\n",
              "      <td>M1H</td>\n",
              "      <td>43.773136</td>\n",
              "      <td>-79.239476</td>\n",
              "    </tr>\n",
              "  </tbody>\n",
              "</table>\n",
              "</div>"
            ],
            "text/plain": [
              "  Postal Code   Latitude  Longitude\n",
              "0         M1B  43.806686 -79.194353\n",
              "1         M1C  43.784535 -79.160497\n",
              "2         M1E  43.763573 -79.188711\n",
              "3         M1G  43.770992 -79.216917\n",
              "4         M1H  43.773136 -79.239476"
            ]
          },
          "metadata": {
            "tags": []
          },
          "execution_count": 7
        }
      ]
    },
    {
      "cell_type": "code",
      "metadata": {
        "id": "5j2uWhE2PUCS",
        "colab_type": "code",
        "outputId": "f043ba37-cf00-4a06-8ae9-f6870541d920",
        "colab": {
          "base_uri": "https://localhost:8080/",
          "height": 204
        }
      },
      "source": [
        "#Rename column name\n",
        "df1.rename(columns={\"Postcode\":\"Postal Code\"},inplace=True)\n",
        "#Merge dataframes\n",
        "df2 = df1.merge(dfGeo, on=\"Postal Code\", how = 'left')\n",
        "df2.head()"
      ],
      "execution_count": 0,
      "outputs": [
        {
          "output_type": "execute_result",
          "data": {
            "text/html": [
              "<div>\n",
              "<style scoped>\n",
              "    .dataframe tbody tr th:only-of-type {\n",
              "        vertical-align: middle;\n",
              "    }\n",
              "\n",
              "    .dataframe tbody tr th {\n",
              "        vertical-align: top;\n",
              "    }\n",
              "\n",
              "    .dataframe thead th {\n",
              "        text-align: right;\n",
              "    }\n",
              "</style>\n",
              "<table border=\"1\" class=\"dataframe\">\n",
              "  <thead>\n",
              "    <tr style=\"text-align: right;\">\n",
              "      <th></th>\n",
              "      <th>Postal Code</th>\n",
              "      <th>Borough</th>\n",
              "      <th>Neighbourhood</th>\n",
              "      <th>Latitude</th>\n",
              "      <th>Longitude</th>\n",
              "    </tr>\n",
              "  </thead>\n",
              "  <tbody>\n",
              "    <tr>\n",
              "      <th>0</th>\n",
              "      <td>M1B</td>\n",
              "      <td>Scarborough</td>\n",
              "      <td>Rouge , Malvern</td>\n",
              "      <td>43.806686</td>\n",
              "      <td>-79.194353</td>\n",
              "    </tr>\n",
              "    <tr>\n",
              "      <th>1</th>\n",
              "      <td>M1C</td>\n",
              "      <td>Scarborough</td>\n",
              "      <td>Rouge Hill , Port Union , Highland Creek</td>\n",
              "      <td>43.784535</td>\n",
              "      <td>-79.160497</td>\n",
              "    </tr>\n",
              "    <tr>\n",
              "      <th>2</th>\n",
              "      <td>M1E</td>\n",
              "      <td>Scarborough</td>\n",
              "      <td>Guildwood , Morningside , West Hill</td>\n",
              "      <td>43.763573</td>\n",
              "      <td>-79.188711</td>\n",
              "    </tr>\n",
              "    <tr>\n",
              "      <th>3</th>\n",
              "      <td>M1G</td>\n",
              "      <td>Scarborough</td>\n",
              "      <td>Woburn</td>\n",
              "      <td>43.770992</td>\n",
              "      <td>-79.216917</td>\n",
              "    </tr>\n",
              "    <tr>\n",
              "      <th>4</th>\n",
              "      <td>M1H</td>\n",
              "      <td>Scarborough</td>\n",
              "      <td>Cedarbrae</td>\n",
              "      <td>43.773136</td>\n",
              "      <td>-79.239476</td>\n",
              "    </tr>\n",
              "  </tbody>\n",
              "</table>\n",
              "</div>"
            ],
            "text/plain": [
              "  Postal Code      Borough  ...   Latitude  Longitude\n",
              "0         M1B  Scarborough  ...  43.806686 -79.194353\n",
              "1         M1C  Scarborough  ...  43.784535 -79.160497\n",
              "2         M1E  Scarborough  ...  43.763573 -79.188711\n",
              "3         M1G  Scarborough  ...  43.770992 -79.216917\n",
              "4         M1H  Scarborough  ...  43.773136 -79.239476\n",
              "\n",
              "[5 rows x 5 columns]"
            ]
          },
          "metadata": {
            "tags": []
          },
          "execution_count": 8
        }
      ]
    },
    {
      "cell_type": "markdown",
      "metadata": {
        "id": "9qtZ5JkGXK5P",
        "colab_type": "text"
      },
      "source": [
        "#Part 3"
      ]
    },
    {
      "cell_type": "markdown",
      "metadata": {
        "id": "9JVCV2yXh1Aa",
        "colab_type": "text"
      },
      "source": [
        "\n",
        "\n",
        "Setup needed libraries and modules"
      ]
    },
    {
      "cell_type": "code",
      "metadata": {
        "id": "u52oBDgOjcbe",
        "colab_type": "code",
        "outputId": "11e7515b-01c9-45e5-cce1-a01269871b96",
        "colab": {
          "base_uri": "https://localhost:8080/",
          "height": 51
        }
      },
      "source": [
        "#!conda install -c conda-forge geopy --yes \n",
        "from geopy.geocoders import Nominatim # module to convert an address into latitude and longitude values\n",
        "\n",
        "# # libraries for displaying images\n",
        "from IPython.display import Image \n",
        "from IPython.core.display import HTML \n",
        "    \n",
        "# # tranforming json file into a pandas dataframe library\n",
        "from pandas.io.json import json_normalize\n",
        "\n",
        "# !conda install -c conda-forge folium=0.5.0 --yes\n",
        "import folium # plotting library\n",
        "\n",
        "print('Folium installed')\n",
        "print('Libraries imported.')"
      ],
      "execution_count": 0,
      "outputs": [
        {
          "output_type": "stream",
          "text": [
            "Folium installed\n",
            "Libraries imported.\n"
          ],
          "name": "stdout"
        }
      ]
    },
    {
      "cell_type": "markdown",
      "metadata": {
        "id": "6hcgwYJHdnKo",
        "colab_type": "text"
      },
      "source": [
        "Setup Foursquare API credentials"
      ]
    },
    {
      "cell_type": "code",
      "metadata": {
        "id": "lw8vwC7wT1j_",
        "colab_type": "code",
        "outputId": "3e89a522-e64c-4861-cc3d-78f23821992a",
        "colab": {
          "base_uri": "https://localhost:8080/",
          "height": 68
        }
      },
      "source": [
        "CLIENT_ID = 'CLIENTID' # your Foursquare ID\n",
        "CLIENT_SECRET = 'CLIENT SECRET' # your Foursquare Secret\n",
        "VERSION = '20180604'\n",
        "LIMIT = 30\n",
        "print('Your credentails:')\n",
        "print('CLIENT_ID: ' + CLIENT_ID)\n",
        "print('CLIENT_SECRET:' + CLIENT_SECRET)"
      ],
      "execution_count": 118,
      "outputs": [
        {
          "output_type": "stream",
          "text": [
            "Your credentails:\n",
            "CLIENT_ID: CLIENTID\n",
            "CLIENT_SECRET:CLIENT SECRET\n"
          ],
          "name": "stdout"
        }
      ]
    },
    {
      "cell_type": "markdown",
      "metadata": {
        "id": "87rl15l9xH2U",
        "colab_type": "text"
      },
      "source": [
        "**Retrieve Toronto's Lat and Long**"
      ]
    },
    {
      "cell_type": "code",
      "metadata": {
        "id": "e5uO8pRFbazF",
        "colab_type": "code",
        "outputId": "2b13b6da-ce0d-4df4-ee42-35a7086c4bb5",
        "colab": {
          "base_uri": "https://localhost:8080/",
          "height": 34
        }
      },
      "source": [
        "#Retrieve Toronto Latitude and Longitude\n",
        "address = 'Toronto'\n",
        "geolocator = Nominatim(user_agent=\"foursquare_agent\")\n",
        "location = geolocator.geocode(address)\n",
        "latitude = location.latitude\n",
        "longitude = location.longitude\n",
        "print(latitude, longitude)"
      ],
      "execution_count": 0,
      "outputs": [
        {
          "output_type": "stream",
          "text": [
            "43.653963 -79.387207\n"
          ],
          "name": "stdout"
        }
      ]
    },
    {
      "cell_type": "markdown",
      "metadata": {
        "id": "jXgz38_JxNtc",
        "colab_type": "text"
      },
      "source": [
        "**Searching for Chinese Restaurant within 100m radius**"
      ]
    },
    {
      "cell_type": "code",
      "metadata": {
        "id": "wzfOohtojTEU",
        "colab_type": "code",
        "outputId": "c2c9c3a3-819d-4614-956e-f8ee2f7dbfd4",
        "colab": {
          "base_uri": "https://localhost:8080/",
          "height": 34
        }
      },
      "source": [
        "search_query = 'Chinese Restaurant'\n",
        "radius = 100\n",
        "print(\"Looking for: \" + search_query)"
      ],
      "execution_count": 80,
      "outputs": [
        {
          "output_type": "stream",
          "text": [
            "Looking for: Chinese Restaurant\n"
          ],
          "name": "stdout"
        }
      ]
    },
    {
      "cell_type": "code",
      "metadata": {
        "id": "UJnyldeABtZW",
        "colab_type": "code",
        "colab": {}
      },
      "source": [
        "url = 'https://api.foursquare.com/v2/venues/search?client_id={}&client_secret={}&ll={},{}&v={}&query={}&radius={}&limit={}'.format(CLIENT_ID, CLIENT_SECRET, latitude, longitude, VERSION, search_query, radius, LIMIT)\n",
        "url"
      ],
      "execution_count": 0,
      "outputs": []
    },
    {
      "cell_type": "code",
      "metadata": {
        "id": "o8Mrwz-7B3xb",
        "colab_type": "code",
        "outputId": "01e06e3c-da56-45ac-b791-aad6110d05b4",
        "colab": {
          "base_uri": "https://localhost:8080/",
          "height": 1000
        }
      },
      "source": [
        "results = requests.get(url).json()\n",
        "results"
      ],
      "execution_count": 82,
      "outputs": [
        {
          "output_type": "execute_result",
          "data": {
            "text/plain": [
              "{'meta': {'code': 200, 'requestId': '5d889f10cad1b600399a7b25'},\n",
              " 'response': {'venues': [{'categories': [{'icon': {'prefix': 'https://ss3.4sqi.net/img/categories_v2/food/asian_',\n",
              "       'suffix': '.png'},\n",
              "      'id': '4bf58dd8d48988d145941735',\n",
              "      'name': 'Chinese Restaurant',\n",
              "      'pluralName': 'Chinese Restaurants',\n",
              "      'primary': True,\n",
              "      'shortName': 'Chinese'}],\n",
              "    'hasPerk': False,\n",
              "    'id': '4b2027b5f964a520f82d24e3',\n",
              "    'location': {'address': '195 Dundas St W',\n",
              "     'cc': 'CA',\n",
              "     'city': 'Toronto',\n",
              "     'country': 'Canada',\n",
              "     'crossStreet': 'at University Ave',\n",
              "     'distance': 107,\n",
              "     'formattedAddress': ['195 Dundas St W (at University Ave)',\n",
              "      'Toronto ON M5G 1C7',\n",
              "      'Canada'],\n",
              "     'labeledLatLngs': [{'label': 'display',\n",
              "       'lat': 43.65492521335936,\n",
              "       'lng': -79.38708916106386}],\n",
              "     'lat': 43.65492521335936,\n",
              "     'lng': -79.38708916106386,\n",
              "     'postalCode': 'M5G 1C7',\n",
              "     'state': 'ON'},\n",
              "    'name': 'Hong Shing Chinese Restaurant',\n",
              "    'referralId': 'v-1569234704',\n",
              "    'venuePage': {'id': '60327598'}},\n",
              "   {'categories': [{'icon': {'prefix': 'https://ss3.4sqi.net/img/categories_v2/building/government_',\n",
              "       'suffix': '.png'},\n",
              "      'id': '4bf58dd8d48988d126941735',\n",
              "      'name': 'Government Building',\n",
              "      'pluralName': 'Government Buildings',\n",
              "      'primary': True,\n",
              "      'shortName': 'Government'}],\n",
              "    'hasPerk': False,\n",
              "    'id': '4f04779a02d5cce0cfc06151',\n",
              "    'location': {'address': '393 University Ave, Suite 1501',\n",
              "     'cc': 'CA',\n",
              "     'city': 'Toronto',\n",
              "     'country': 'Canada',\n",
              "     'crossStreet': 'in University Centre',\n",
              "     'distance': 14,\n",
              "     'formattedAddress': ['393 University Ave, Suite 1501 (in University Centre)',\n",
              "      'Toronto ON',\n",
              "      'Canada'],\n",
              "     'labeledLatLngs': [{'label': 'display',\n",
              "       'lat': 43.65402839343005,\n",
              "       'lng': -79.38736458967021}],\n",
              "     'lat': 43.65402839343005,\n",
              "     'lng': -79.38736458967021,\n",
              "     'state': 'ON'},\n",
              "    'name': 'Chinese Visa Application Service Center',\n",
              "    'referralId': 'v-1569234704'},\n",
              "   {'categories': [{'icon': {'prefix': 'https://ss3.4sqi.net/img/categories_v2/food/asian_',\n",
              "       'suffix': '.png'},\n",
              "      'id': '4bf58dd8d48988d145941735',\n",
              "      'name': 'Chinese Restaurant',\n",
              "      'pluralName': 'Chinese Restaurants',\n",
              "      'primary': True,\n",
              "      'shortName': 'Chinese'}],\n",
              "    'hasPerk': False,\n",
              "    'id': '4c69740b8d22c9284d42b745',\n",
              "    'location': {'address': '56 Centre Ave.',\n",
              "     'cc': 'CA',\n",
              "     'city': 'Toronto',\n",
              "     'country': 'Canada',\n",
              "     'distance': 96,\n",
              "     'formattedAddress': ['56 Centre Ave.', 'Toronto ON M5G 1R5', 'Canada'],\n",
              "     'labeledLatLngs': [{'label': 'display',\n",
              "       'lat': 43.65483285234745,\n",
              "       'lng': -79.38720597193928}],\n",
              "     'lat': 43.65483285234745,\n",
              "     'lng': -79.38720597193928,\n",
              "     'postalCode': 'M5G 1R5',\n",
              "     'state': 'ON'},\n",
              "    'name': 'Wah Too Seafood Restaurant',\n",
              "    'referralId': 'v-1569234704'},\n",
              "   {'categories': [{'icon': {'prefix': 'https://ss3.4sqi.net/img/categories_v2/food/middleeastern_',\n",
              "       'suffix': '.png'},\n",
              "      'id': '4bf58dd8d48988d115941735',\n",
              "      'name': 'Middle Eastern Restaurant',\n",
              "      'pluralName': 'Middle Eastern Restaurants',\n",
              "      'primary': True,\n",
              "      'shortName': 'Middle Eastern'}],\n",
              "    'hasPerk': False,\n",
              "    'id': '4ddd83c788779c82beb061fc',\n",
              "    'location': {'address': '199 Dundas St. W',\n",
              "     'cc': 'CA',\n",
              "     'city': 'Toronto',\n",
              "     'country': 'Canada',\n",
              "     'crossStreet': 'at Centre Ave.',\n",
              "     'distance': 106,\n",
              "     'formattedAddress': ['199 Dundas St. W (at Centre Ave.)',\n",
              "      'Toronto ON M5g 1c8',\n",
              "      'Canada'],\n",
              "     'labeledLatLngs': [{'label': 'display',\n",
              "       'lat': 43.65491647880546,\n",
              "       'lng': -79.38717216891472}],\n",
              "     'lat': 43.65491647880546,\n",
              "     'lng': -79.38717216891472,\n",
              "     'postalCode': 'M5g 1c8',\n",
              "     'state': 'ON'},\n",
              "    'name': \"Ali Baba's\",\n",
              "    'referralId': 'v-1569234704'}]}}"
            ]
          },
          "metadata": {
            "tags": []
          },
          "execution_count": 82
        }
      ]
    },
    {
      "cell_type": "markdown",
      "metadata": {
        "id": "DYYCAlO6xYx_",
        "colab_type": "text"
      },
      "source": [
        "**Convert results to dataframes**"
      ]
    },
    {
      "cell_type": "code",
      "metadata": {
        "id": "69e9qS-vB6Yd",
        "colab_type": "code",
        "outputId": "1bd6b6d7-85f0-417d-8a4e-2699148dcd1a",
        "colab": {
          "base_uri": "https://localhost:8080/",
          "height": 485
        }
      },
      "source": [
        "# assign relevant part of JSON to venues\n",
        "venues = results['response']['venues']\n",
        "\n",
        "# tranform venues into a dataframe\n",
        "dataframe = json_normalize(venues)\n",
        "dataframe.head()"
      ],
      "execution_count": 83,
      "outputs": [
        {
          "output_type": "execute_result",
          "data": {
            "text/html": [
              "<div>\n",
              "<style scoped>\n",
              "    .dataframe tbody tr th:only-of-type {\n",
              "        vertical-align: middle;\n",
              "    }\n",
              "\n",
              "    .dataframe tbody tr th {\n",
              "        vertical-align: top;\n",
              "    }\n",
              "\n",
              "    .dataframe thead th {\n",
              "        text-align: right;\n",
              "    }\n",
              "</style>\n",
              "<table border=\"1\" class=\"dataframe\">\n",
              "  <thead>\n",
              "    <tr style=\"text-align: right;\">\n",
              "      <th></th>\n",
              "      <th>categories</th>\n",
              "      <th>hasPerk</th>\n",
              "      <th>id</th>\n",
              "      <th>location.address</th>\n",
              "      <th>location.cc</th>\n",
              "      <th>location.city</th>\n",
              "      <th>location.country</th>\n",
              "      <th>location.crossStreet</th>\n",
              "      <th>location.distance</th>\n",
              "      <th>location.formattedAddress</th>\n",
              "      <th>location.labeledLatLngs</th>\n",
              "      <th>location.lat</th>\n",
              "      <th>location.lng</th>\n",
              "      <th>location.postalCode</th>\n",
              "      <th>location.state</th>\n",
              "      <th>name</th>\n",
              "      <th>referralId</th>\n",
              "      <th>venuePage.id</th>\n",
              "    </tr>\n",
              "  </thead>\n",
              "  <tbody>\n",
              "    <tr>\n",
              "      <th>0</th>\n",
              "      <td>[{'id': '4bf58dd8d48988d145941735', 'name': 'Chinese Restaurant', 'pluralName': 'Chinese Restaurants', 'shortName': 'Chinese', 'icon': {'prefix': 'https://ss3.4sqi.net/img/categories_v2/food/asian_', 'suffix': '.png'}, 'primary': True}]</td>\n",
              "      <td>False</td>\n",
              "      <td>4b2027b5f964a520f82d24e3</td>\n",
              "      <td>195 Dundas St W</td>\n",
              "      <td>CA</td>\n",
              "      <td>Toronto</td>\n",
              "      <td>Canada</td>\n",
              "      <td>at University Ave</td>\n",
              "      <td>107</td>\n",
              "      <td>[195 Dundas St W (at University Ave), Toronto ON M5G 1C7, Canada]</td>\n",
              "      <td>[{'label': 'display', 'lat': 43.65492521335936, 'lng': -79.38708916106386}]</td>\n",
              "      <td>43.654925</td>\n",
              "      <td>-79.387089</td>\n",
              "      <td>M5G 1C7</td>\n",
              "      <td>ON</td>\n",
              "      <td>Hong Shing Chinese Restaurant</td>\n",
              "      <td>v-1569234704</td>\n",
              "      <td>60327598</td>\n",
              "    </tr>\n",
              "    <tr>\n",
              "      <th>1</th>\n",
              "      <td>[{'id': '4bf58dd8d48988d126941735', 'name': 'Government Building', 'pluralName': 'Government Buildings', 'shortName': 'Government', 'icon': {'prefix': 'https://ss3.4sqi.net/img/categories_v2/building/government_', 'suffix': '.png'}, 'primary': True}]</td>\n",
              "      <td>False</td>\n",
              "      <td>4f04779a02d5cce0cfc06151</td>\n",
              "      <td>393 University Ave, Suite 1501</td>\n",
              "      <td>CA</td>\n",
              "      <td>Toronto</td>\n",
              "      <td>Canada</td>\n",
              "      <td>in University Centre</td>\n",
              "      <td>14</td>\n",
              "      <td>[393 University Ave, Suite 1501 (in University Centre), Toronto ON, Canada]</td>\n",
              "      <td>[{'label': 'display', 'lat': 43.65402839343005, 'lng': -79.38736458967021}]</td>\n",
              "      <td>43.654028</td>\n",
              "      <td>-79.387365</td>\n",
              "      <td>NaN</td>\n",
              "      <td>ON</td>\n",
              "      <td>Chinese Visa Application Service Center</td>\n",
              "      <td>v-1569234704</td>\n",
              "      <td>NaN</td>\n",
              "    </tr>\n",
              "    <tr>\n",
              "      <th>2</th>\n",
              "      <td>[{'id': '4bf58dd8d48988d145941735', 'name': 'Chinese Restaurant', 'pluralName': 'Chinese Restaurants', 'shortName': 'Chinese', 'icon': {'prefix': 'https://ss3.4sqi.net/img/categories_v2/food/asian_', 'suffix': '.png'}, 'primary': True}]</td>\n",
              "      <td>False</td>\n",
              "      <td>4c69740b8d22c9284d42b745</td>\n",
              "      <td>56 Centre Ave.</td>\n",
              "      <td>CA</td>\n",
              "      <td>Toronto</td>\n",
              "      <td>Canada</td>\n",
              "      <td>NaN</td>\n",
              "      <td>96</td>\n",
              "      <td>[56 Centre Ave., Toronto ON M5G 1R5, Canada]</td>\n",
              "      <td>[{'label': 'display', 'lat': 43.65483285234745, 'lng': -79.38720597193928}]</td>\n",
              "      <td>43.654833</td>\n",
              "      <td>-79.387206</td>\n",
              "      <td>M5G 1R5</td>\n",
              "      <td>ON</td>\n",
              "      <td>Wah Too Seafood Restaurant</td>\n",
              "      <td>v-1569234704</td>\n",
              "      <td>NaN</td>\n",
              "    </tr>\n",
              "    <tr>\n",
              "      <th>3</th>\n",
              "      <td>[{'id': '4bf58dd8d48988d115941735', 'name': 'Middle Eastern Restaurant', 'pluralName': 'Middle Eastern Restaurants', 'shortName': 'Middle Eastern', 'icon': {'prefix': 'https://ss3.4sqi.net/img/categories_v2/food/middleeastern_', 'suffix': '.png'}, 'primary': True}]</td>\n",
              "      <td>False</td>\n",
              "      <td>4ddd83c788779c82beb061fc</td>\n",
              "      <td>199 Dundas St. W</td>\n",
              "      <td>CA</td>\n",
              "      <td>Toronto</td>\n",
              "      <td>Canada</td>\n",
              "      <td>at Centre Ave.</td>\n",
              "      <td>106</td>\n",
              "      <td>[199 Dundas St. W (at Centre Ave.), Toronto ON M5g 1c8, Canada]</td>\n",
              "      <td>[{'label': 'display', 'lat': 43.65491647880546, 'lng': -79.38717216891472}]</td>\n",
              "      <td>43.654916</td>\n",
              "      <td>-79.387172</td>\n",
              "      <td>M5g 1c8</td>\n",
              "      <td>ON</td>\n",
              "      <td>Ali Baba's</td>\n",
              "      <td>v-1569234704</td>\n",
              "      <td>NaN</td>\n",
              "    </tr>\n",
              "  </tbody>\n",
              "</table>\n",
              "</div>"
            ],
            "text/plain": [
              "                                                                                                                                                                                                                                                                  categories  ...  venuePage.id\n",
              "0  [{'id': '4bf58dd8d48988d145941735', 'name': 'Chinese Restaurant', 'pluralName': 'Chinese Restaurants', 'shortName': 'Chinese', 'icon': {'prefix': 'https://ss3.4sqi.net/img/categories_v2/food/asian_', 'suffix': '.png'}, 'primary': True}]                               ...  60327598    \n",
              "1  [{'id': '4bf58dd8d48988d126941735', 'name': 'Government Building', 'pluralName': 'Government Buildings', 'shortName': 'Government', 'icon': {'prefix': 'https://ss3.4sqi.net/img/categories_v2/building/government_', 'suffix': '.png'}, 'primary': True}]                 ...  NaN         \n",
              "2  [{'id': '4bf58dd8d48988d145941735', 'name': 'Chinese Restaurant', 'pluralName': 'Chinese Restaurants', 'shortName': 'Chinese', 'icon': {'prefix': 'https://ss3.4sqi.net/img/categories_v2/food/asian_', 'suffix': '.png'}, 'primary': True}]                               ...  NaN         \n",
              "3  [{'id': '4bf58dd8d48988d115941735', 'name': 'Middle Eastern Restaurant', 'pluralName': 'Middle Eastern Restaurants', 'shortName': 'Middle Eastern', 'icon': {'prefix': 'https://ss3.4sqi.net/img/categories_v2/food/middleeastern_', 'suffix': '.png'}, 'primary': True}]  ...  NaN         \n",
              "\n",
              "[4 rows x 18 columns]"
            ]
          },
          "metadata": {
            "tags": []
          },
          "execution_count": 83
        }
      ]
    },
    {
      "cell_type": "markdown",
      "metadata": {
        "id": "gm9CmfL1xeRu",
        "colab_type": "text"
      },
      "source": [
        "**Clean up dataframe. keeps only relevant columns**"
      ]
    },
    {
      "cell_type": "code",
      "metadata": {
        "id": "UnXJMRKtB9Qg",
        "colab_type": "code",
        "outputId": "8c8c8f79-1a12-42cf-e341-f97119deb364",
        "colab": {
          "base_uri": "https://localhost:8080/",
          "height": 434
        }
      },
      "source": [
        "# keep only columns that include venue name, and anything that is associated with location\n",
        "filtered_columns = ['name', 'categories'] + [col for col in dataframe.columns if col.startswith('location.')] + ['id']\n",
        "dataframe_filtered = dataframe.loc[:, filtered_columns]\n",
        "\n",
        "# function that extracts the category of the venue\n",
        "def get_category_type(row):\n",
        "    try:\n",
        "        categories_list = row['categories']\n",
        "    except:\n",
        "        categories_list = row['venue.categories']\n",
        "        \n",
        "    if len(categories_list) == 0:\n",
        "        return None\n",
        "    else:\n",
        "        return categories_list[0]['name']\n",
        "\n",
        "# filter the category for each row\n",
        "dataframe_filtered['categories'] = dataframe_filtered.apply(get_category_type, axis=1)\n",
        "\n",
        "# clean column names by keeping only last term\n",
        "dataframe_filtered.columns = [column.split('.')[-1] for column in dataframe_filtered.columns]\n",
        "\n",
        "dataframe_filtered"
      ],
      "execution_count": 84,
      "outputs": [
        {
          "output_type": "execute_result",
          "data": {
            "text/html": [
              "<div>\n",
              "<style scoped>\n",
              "    .dataframe tbody tr th:only-of-type {\n",
              "        vertical-align: middle;\n",
              "    }\n",
              "\n",
              "    .dataframe tbody tr th {\n",
              "        vertical-align: top;\n",
              "    }\n",
              "\n",
              "    .dataframe thead th {\n",
              "        text-align: right;\n",
              "    }\n",
              "</style>\n",
              "<table border=\"1\" class=\"dataframe\">\n",
              "  <thead>\n",
              "    <tr style=\"text-align: right;\">\n",
              "      <th></th>\n",
              "      <th>name</th>\n",
              "      <th>categories</th>\n",
              "      <th>address</th>\n",
              "      <th>cc</th>\n",
              "      <th>city</th>\n",
              "      <th>country</th>\n",
              "      <th>crossStreet</th>\n",
              "      <th>distance</th>\n",
              "      <th>formattedAddress</th>\n",
              "      <th>labeledLatLngs</th>\n",
              "      <th>lat</th>\n",
              "      <th>lng</th>\n",
              "      <th>postalCode</th>\n",
              "      <th>state</th>\n",
              "      <th>id</th>\n",
              "    </tr>\n",
              "  </thead>\n",
              "  <tbody>\n",
              "    <tr>\n",
              "      <th>0</th>\n",
              "      <td>Hong Shing Chinese Restaurant</td>\n",
              "      <td>Chinese Restaurant</td>\n",
              "      <td>195 Dundas St W</td>\n",
              "      <td>CA</td>\n",
              "      <td>Toronto</td>\n",
              "      <td>Canada</td>\n",
              "      <td>at University Ave</td>\n",
              "      <td>107</td>\n",
              "      <td>[195 Dundas St W (at University Ave), Toronto ON M5G 1C7, Canada]</td>\n",
              "      <td>[{'label': 'display', 'lat': 43.65492521335936, 'lng': -79.38708916106386}]</td>\n",
              "      <td>43.654925</td>\n",
              "      <td>-79.387089</td>\n",
              "      <td>M5G 1C7</td>\n",
              "      <td>ON</td>\n",
              "      <td>4b2027b5f964a520f82d24e3</td>\n",
              "    </tr>\n",
              "    <tr>\n",
              "      <th>1</th>\n",
              "      <td>Chinese Visa Application Service Center</td>\n",
              "      <td>Government Building</td>\n",
              "      <td>393 University Ave, Suite 1501</td>\n",
              "      <td>CA</td>\n",
              "      <td>Toronto</td>\n",
              "      <td>Canada</td>\n",
              "      <td>in University Centre</td>\n",
              "      <td>14</td>\n",
              "      <td>[393 University Ave, Suite 1501 (in University Centre), Toronto ON, Canada]</td>\n",
              "      <td>[{'label': 'display', 'lat': 43.65402839343005, 'lng': -79.38736458967021}]</td>\n",
              "      <td>43.654028</td>\n",
              "      <td>-79.387365</td>\n",
              "      <td>NaN</td>\n",
              "      <td>ON</td>\n",
              "      <td>4f04779a02d5cce0cfc06151</td>\n",
              "    </tr>\n",
              "    <tr>\n",
              "      <th>2</th>\n",
              "      <td>Wah Too Seafood Restaurant</td>\n",
              "      <td>Chinese Restaurant</td>\n",
              "      <td>56 Centre Ave.</td>\n",
              "      <td>CA</td>\n",
              "      <td>Toronto</td>\n",
              "      <td>Canada</td>\n",
              "      <td>NaN</td>\n",
              "      <td>96</td>\n",
              "      <td>[56 Centre Ave., Toronto ON M5G 1R5, Canada]</td>\n",
              "      <td>[{'label': 'display', 'lat': 43.65483285234745, 'lng': -79.38720597193928}]</td>\n",
              "      <td>43.654833</td>\n",
              "      <td>-79.387206</td>\n",
              "      <td>M5G 1R5</td>\n",
              "      <td>ON</td>\n",
              "      <td>4c69740b8d22c9284d42b745</td>\n",
              "    </tr>\n",
              "    <tr>\n",
              "      <th>3</th>\n",
              "      <td>Ali Baba's</td>\n",
              "      <td>Middle Eastern Restaurant</td>\n",
              "      <td>199 Dundas St. W</td>\n",
              "      <td>CA</td>\n",
              "      <td>Toronto</td>\n",
              "      <td>Canada</td>\n",
              "      <td>at Centre Ave.</td>\n",
              "      <td>106</td>\n",
              "      <td>[199 Dundas St. W (at Centre Ave.), Toronto ON M5g 1c8, Canada]</td>\n",
              "      <td>[{'label': 'display', 'lat': 43.65491647880546, 'lng': -79.38717216891472}]</td>\n",
              "      <td>43.654916</td>\n",
              "      <td>-79.387172</td>\n",
              "      <td>M5g 1c8</td>\n",
              "      <td>ON</td>\n",
              "      <td>4ddd83c788779c82beb061fc</td>\n",
              "    </tr>\n",
              "  </tbody>\n",
              "</table>\n",
              "</div>"
            ],
            "text/plain": [
              "                                      name  ...                        id\n",
              "0  Hong Shing Chinese Restaurant            ...  4b2027b5f964a520f82d24e3\n",
              "1  Chinese Visa Application Service Center  ...  4f04779a02d5cce0cfc06151\n",
              "2  Wah Too Seafood Restaurant               ...  4c69740b8d22c9284d42b745\n",
              "3  Ali Baba's                               ...  4ddd83c788779c82beb061fc\n",
              "\n",
              "[4 rows x 15 columns]"
            ]
          },
          "metadata": {
            "tags": []
          },
          "execution_count": 84
        }
      ]
    },
    {
      "cell_type": "markdown",
      "metadata": {
        "id": "aYhfG4brxsyk",
        "colab_type": "text"
      },
      "source": [
        "**Filtered by Restaurant Names**"
      ]
    },
    {
      "cell_type": "code",
      "metadata": {
        "id": "PF8SRjFeCDe7",
        "colab_type": "code",
        "outputId": "5ed888c1-79cc-4c0e-a745-da413b53db91",
        "colab": {
          "base_uri": "https://localhost:8080/",
          "height": 102
        }
      },
      "source": [
        "dataframe_filtered.name"
      ],
      "execution_count": 85,
      "outputs": [
        {
          "output_type": "execute_result",
          "data": {
            "text/plain": [
              "0    Hong Shing Chinese Restaurant          \n",
              "1    Chinese Visa Application Service Center\n",
              "2    Wah Too Seafood Restaurant             \n",
              "3    Ali Baba's                             \n",
              "Name: name, dtype: object"
            ]
          },
          "metadata": {
            "tags": []
          },
          "execution_count": 85
        }
      ]
    },
    {
      "cell_type": "code",
      "metadata": {
        "id": "AXKsUS3iCLec",
        "colab_type": "code",
        "outputId": "b0481a80-e466-4b3a-8a2e-66094a629302",
        "colab": {
          "base_uri": "https://localhost:8080/",
          "height": 672
        }
      },
      "source": [
        "venues_map = folium.Map(location=[latitude, longitude], zoom_start=13) # generate map centred around the Toronto Chinese Restaurants\n",
        "\n",
        "# add a red circle marker to represent the Toronto\n",
        "#folium.features.CircleMarker(\n",
        "folium.CircleMarker(\n",
        "    [latitude, longitude],\n",
        "    radius=10,\n",
        "    color='red',\n",
        "    popup='Toronto',\n",
        "    fill = True,\n",
        "    fill_color = 'red',\n",
        "    fill_opacity = 0.6\n",
        ").add_to(venues_map)\n",
        "\n",
        "# add the Italian restaurants as blue circle markers\n",
        "for lat, lng, label in zip(dataframe_filtered.lat, dataframe_filtered.lng, dataframe_filtered.categories):\n",
        "    folium.CircleMarker(\n",
        "        [lat, lng],\n",
        "        radius=5,\n",
        "        color='blue',\n",
        "        popup=label,\n",
        "        fill = True,\n",
        "        fill_color='blue',\n",
        "        fill_opacity=0.6\n",
        "    ).add_to(venues_map)\n",
        "\n",
        "# display map\n",
        "venues_map"
      ],
      "execution_count": 86,
      "outputs": [
        {
          "output_type": "execute_result",
          "data": {
            "text/html": [
              "<div style=\"width:100%;\"><div style=\"position:relative;width:100%;height:0;padding-bottom:60%;\"><iframe src=\"data:text/html;charset=utf-8;base64,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\" style=\"position:absolute;width:100%;height:100%;left:0;top:0;border:none !important;\" allowfullscreen webkitallowfullscreen mozallowfullscreen></iframe></div></div>"
            ],
            "text/plain": [
              "<folium.folium.Map at 0x7f1868e63710>"
            ]
          },
          "metadata": {
            "tags": []
          },
          "execution_count": 86
        }
      ]
    },
    {
      "cell_type": "markdown",
      "metadata": {
        "id": "pcoZyOqOx10D",
        "colab_type": "text"
      },
      "source": [
        "**Compare with another Chinese Restaruant nearby**"
      ]
    },
    {
      "cell_type": "code",
      "metadata": {
        "id": "lz_IuYPAIZrz",
        "colab_type": "code",
        "colab": {}
      },
      "source": [
        "venue_id = '4f04779a02d5cce0cfc06151' # Compare with another restaurant\n",
        "url = 'https://api.foursquare.com/v2/venues/{}?client_id={}&client_secret={}&v={}'.format(venue_id, CLIENT_ID, CLIENT_SECRET, VERSION)\n",
        "url"
      ],
      "execution_count": 0,
      "outputs": []
    },
    {
      "cell_type": "code",
      "metadata": {
        "id": "njUfMdD-KNRS",
        "colab_type": "code",
        "outputId": "817b4759-a7a1-4654-ddc2-d8175c46e2b9",
        "colab": {
          "base_uri": "https://localhost:8080/",
          "height": 1000
        }
      },
      "source": [
        "result = requests.get(url).json()\n",
        "print(result['response']['venue'].keys())\n",
        "result['response']['venue']"
      ],
      "execution_count": 91,
      "outputs": [
        {
          "output_type": "stream",
          "text": [
            "dict_keys(['id', 'name', 'contact', 'location', 'canonicalUrl', 'categories', 'verified', 'stats', 'likes', 'dislike', 'ok', 'venueRatingBlacklisted', 'beenHere', 'specials', 'photos', 'reasons', 'hereNow', 'createdAt', 'tips', 'shortUrl', 'timeZone', 'listed', 'popular', 'pageUpdates', 'inbox', 'attributes', 'bestPhoto', 'colors'])\n"
          ],
          "name": "stdout"
        },
        {
          "output_type": "execute_result",
          "data": {
            "text/plain": [
              "{'attributes': {'groups': []},\n",
              " 'beenHere': {'count': 0,\n",
              "  'lastCheckinExpiredAt': 0,\n",
              "  'marked': False,\n",
              "  'unconfirmedCount': 0},\n",
              " 'bestPhoto': {'createdAt': 1382635141,\n",
              "  'height': 737,\n",
              "  'id': '5269568511d259fd397a8bd8',\n",
              "  'prefix': 'https://fastly.4sqi.net/img/general/',\n",
              "  'source': {'name': 'Foursquare for Android',\n",
              "   'url': 'https://foursquare.com/download/#/android'},\n",
              "  'suffix': '/24380_tRJAJqXHm6ylj_tEjZoP7HindomE-fWuGMDz2Y5Lies.jpg',\n",
              "  'visibility': 'public',\n",
              "  'width': 960},\n",
              " 'canonicalUrl': 'https://foursquare.com/v/chinese-visa-application-service-center/4f04779a02d5cce0cfc06151',\n",
              " 'categories': [{'icon': {'prefix': 'https://ss3.4sqi.net/img/categories_v2/building/government_',\n",
              "    'suffix': '.png'},\n",
              "   'id': '4bf58dd8d48988d126941735',\n",
              "   'name': 'Government Building',\n",
              "   'pluralName': 'Government Buildings',\n",
              "   'primary': True,\n",
              "   'shortName': 'Government'}],\n",
              " 'colors': {'algoVersion': 3,\n",
              "  'highlightColor': {'photoId': '5269568511d259fd397a8bd8',\n",
              "   'value': -12040120},\n",
              "  'highlightTextColor': {'photoId': '5269568511d259fd397a8bd8', 'value': -1}},\n",
              " 'contact': {'formattedPhone': '(416) 345-8472', 'phone': '4163458472'},\n",
              " 'createdAt': 1325692826,\n",
              " 'dislike': False,\n",
              " 'hereNow': {'count': 0, 'groups': [], 'summary': 'Nobody here'},\n",
              " 'id': '4f04779a02d5cce0cfc06151',\n",
              " 'inbox': {'count': 0, 'items': []},\n",
              " 'likes': {'count': 4,\n",
              "  'groups': [{'count': 4,\n",
              "    'items': [{'firstName': 'Kenneth',\n",
              "      'gender': 'male',\n",
              "      'id': '38957893',\n",
              "      'lastName': 'Kwan',\n",
              "      'photo': {'prefix': 'https://fastly.4sqi.net/img/user/',\n",
              "       'suffix': '/38957893-FIUY0A3MWLGBD21Y.jpg'}},\n",
              "     {'firstName': 'Jason',\n",
              "      'gender': 'male',\n",
              "      'id': '1559563',\n",
              "      'lastName': 'Hawksworth',\n",
              "      'photo': {'prefix': 'https://fastly.4sqi.net/img/user/',\n",
              "       'suffix': '/W4JKHG11ESHUJZHO.jpg'}},\n",
              "     {'firstName': 'Yu',\n",
              "      'gender': 'male',\n",
              "      'id': '55240878',\n",
              "      'lastName': 'John',\n",
              "      'photo': {'default': True,\n",
              "       'prefix': 'https://fastly.4sqi.net/img/user/',\n",
              "       'suffix': '/blank_boy.png'}},\n",
              "     {'firstName': 'Jessica',\n",
              "      'gender': 'female',\n",
              "      'id': '52036842',\n",
              "      'lastName': 'Nichols',\n",
              "      'photo': {'prefix': 'https://fastly.4sqi.net/img/user/',\n",
              "       'suffix': '/52036842-XOL2RRYTK5THV5D3.jpg'}}],\n",
              "    'type': 'others'}],\n",
              "  'summary': '4 Likes'},\n",
              " 'listed': {'count': 0,\n",
              "  'groups': [{'count': 0,\n",
              "    'items': [],\n",
              "    'name': 'Lists from other people',\n",
              "    'type': 'others'}]},\n",
              " 'location': {'address': '393 University Ave, Suite 1501',\n",
              "  'cc': 'CA',\n",
              "  'city': 'Toronto',\n",
              "  'country': 'Canada',\n",
              "  'crossStreet': 'in University Centre',\n",
              "  'formattedAddress': ['393 University Ave, Suite 1501 (in University Centre)',\n",
              "   'Toronto ON',\n",
              "   'Canada'],\n",
              "  'labeledLatLngs': [{'label': 'display',\n",
              "    'lat': 43.65402839343005,\n",
              "    'lng': -79.38736458967021}],\n",
              "  'lat': 43.65402839343005,\n",
              "  'lng': -79.38736458967021,\n",
              "  'state': 'ON'},\n",
              " 'name': 'Chinese Visa Application Service Center',\n",
              " 'ok': False,\n",
              " 'pageUpdates': {'count': 0, 'items': []},\n",
              " 'photos': {'count': 11,\n",
              "  'groups': [{'count': 0,\n",
              "    'items': [],\n",
              "    'name': \"Friends' check-in photos\",\n",
              "    'type': 'checkin'},\n",
              "   {'count': 11,\n",
              "    'items': [{'createdAt': 1382635141,\n",
              "      'height': 737,\n",
              "      'id': '5269568511d259fd397a8bd8',\n",
              "      'prefix': 'https://fastly.4sqi.net/img/general/',\n",
              "      'source': {'name': 'Foursquare for Android',\n",
              "       'url': 'https://foursquare.com/download/#/android'},\n",
              "      'suffix': '/24380_tRJAJqXHm6ylj_tEjZoP7HindomE-fWuGMDz2Y5Lies.jpg',\n",
              "      'user': {'firstName': 'Andrew',\n",
              "       'gender': 'male',\n",
              "       'id': '24380',\n",
              "       'lastName': 'Currie',\n",
              "       'photo': {'prefix': 'https://fastly.4sqi.net/img/user/',\n",
              "        'suffix': '/24380_bXSBzmvR__Hamv9ZIyfHHdt7NH4r1VZIAlHIUY_VdAdXp8-AycKqNBtv8J33M5OJnJBM4NwLL'}},\n",
              "      'visibility': 'public',\n",
              "      'width': 960}],\n",
              "    'name': 'Venue photos',\n",
              "    'type': 'venue'}],\n",
              "  'summary': '0 photos'},\n",
              " 'popular': {'isLocalHoliday': False,\n",
              "  'isOpen': False,\n",
              "  'timeframes': [{'days': 'Today',\n",
              "    'includesToday': True,\n",
              "    'open': [{'renderedTime': '9:00 AM–3:00 PM'}],\n",
              "    'segments': []},\n",
              "   {'days': 'Tue',\n",
              "    'open': [{'renderedTime': '8:00 AM–2:00 PM'}],\n",
              "    'segments': []},\n",
              "   {'days': 'Wed–Thu',\n",
              "    'open': [{'renderedTime': '8:00 AM–3:00 PM'}],\n",
              "    'segments': []},\n",
              "   {'days': 'Fri',\n",
              "    'open': [{'renderedTime': '8:00 AM–4:00 PM'}],\n",
              "    'segments': []},\n",
              "   {'days': 'Sat–Sun', 'open': [{'renderedTime': 'None'}], 'segments': []}]},\n",
              " 'reasons': {'count': 0, 'items': []},\n",
              " 'shortUrl': 'http://4sq.com/xK5xL0',\n",
              " 'specials': {'count': 0, 'items': []},\n",
              " 'stats': {'tipCount': 19},\n",
              " 'timeZone': 'America/Toronto',\n",
              " 'tips': {'count': 19,\n",
              "  'groups': [{'count': 19,\n",
              "    'items': [{'agreeCount': 2,\n",
              "      'canonicalUrl': 'https://foursquare.com/item/500d6680e4b0fec2ce8e5762',\n",
              "      'createdAt': 1343055488,\n",
              "      'disagreeCount': 0,\n",
              "      'id': '500d6680e4b0fec2ce8e5762',\n",
              "      'lang': 'en',\n",
              "      'likes': {'count': 2,\n",
              "       'groups': [{'count': 2,\n",
              "         'items': [{'firstName': 'Kelly',\n",
              "           'gender': 'male',\n",
              "           'id': '68473',\n",
              "           'lastName': 'Askew',\n",
              "           'photo': {'prefix': 'https://fastly.4sqi.net/img/user/',\n",
              "            'suffix': '/-1_1255967185616.jpg'}},\n",
              "          {'firstName': 'Rob',\n",
              "           'gender': 'male',\n",
              "           'id': '3137489',\n",
              "           'lastName': 'C',\n",
              "           'photo': {'prefix': 'https://fastly.4sqi.net/img/user/',\n",
              "            'suffix': '/RSK4D0I32WVNNREQ.jpg'}}],\n",
              "         'type': 'others'}],\n",
              "       'summary': '2 likes'},\n",
              "      'logView': True,\n",
              "      'text': \"An atrocious example of what happens when an embassy sources it's visa application process to a third party. Unnecessary charges are padded on, and the requirements and process lack transparency.\",\n",
              "      'todo': {'count': 0},\n",
              "      'type': 'user',\n",
              "      'user': {'firstName': 'cindy',\n",
              "       'gender': 'female',\n",
              "       'id': '25429289',\n",
              "       'lastName': 'l',\n",
              "       'photo': {'prefix': 'https://fastly.4sqi.net/img/user/',\n",
              "        'suffix': '/25429289-JZ2011PCSIEJ2ZHL.jpg'}}}],\n",
              "    'name': 'All tips',\n",
              "    'type': 'others'}]},\n",
              " 'venueRatingBlacklisted': True,\n",
              " 'verified': False}"
            ]
          },
          "metadata": {
            "tags": []
          },
          "execution_count": 91
        }
      ]
    },
    {
      "cell_type": "markdown",
      "metadata": {
        "id": "hlR7wcNjx9_X",
        "colab_type": "text"
      },
      "source": [
        "**Check ratings of the restaurant**"
      ]
    },
    {
      "cell_type": "code",
      "metadata": {
        "id": "VbQKj2KXKXEP",
        "colab_type": "code",
        "outputId": "50b1b6e7-541d-4581-a60a-25474d594e5c",
        "colab": {
          "base_uri": "https://localhost:8080/",
          "height": 34
        }
      },
      "source": [
        "try:\n",
        "    print(result['response']['venue']['rating'])\n",
        "except:\n",
        "    print('This venue has not been rated yet.')"
      ],
      "execution_count": 92,
      "outputs": [
        {
          "output_type": "stream",
          "text": [
            "This venue has not been rated yet.\n"
          ],
          "name": "stdout"
        }
      ]
    },
    {
      "cell_type": "code",
      "metadata": {
        "id": "-Qh-tMjFKf9z",
        "colab_type": "code",
        "outputId": "35a376d5-b0ea-4ea6-f846-83673ca60756",
        "colab": {
          "base_uri": "https://localhost:8080/",
          "height": 34
        }
      },
      "source": [
        "venue_id = '4c69740b8d22c9284d42b745' # ID of Conca Cucina Italian Restaurant\n",
        "url = 'https://api.foursquare.com/v2/venues/{}?client_id={}&client_secret={}&v={}'.format(venue_id, CLIENT_ID, CLIENT_SECRET, VERSION)\n",
        "\n",
        "result = requests.get(url).json()\n",
        "try:\n",
        "    print(result['response']['venue']['rating'])\n",
        "except:\n",
        "    print('This venue has not been rated yet.')"
      ],
      "execution_count": 94,
      "outputs": [
        {
          "output_type": "stream",
          "text": [
            "6.1\n"
          ],
          "name": "stdout"
        }
      ]
    },
    {
      "cell_type": "code",
      "metadata": {
        "id": "SVgD7pMrKu3O",
        "colab_type": "code",
        "outputId": "22e9380c-491d-48af-df4b-60a5a5a565a3",
        "colab": {
          "base_uri": "https://localhost:8080/",
          "height": 34
        }
      },
      "source": [
        "result['response']['venue']['tips']['count']"
      ],
      "execution_count": 95,
      "outputs": [
        {
          "output_type": "execute_result",
          "data": {
            "text/plain": [
              "11"
            ]
          },
          "metadata": {
            "tags": []
          },
          "execution_count": 95
        }
      ]
    },
    {
      "cell_type": "code",
      "metadata": {
        "id": "eOkn5UVoLS9x",
        "colab_type": "code",
        "outputId": "d2acb10b-0389-45af-f004-5681d41ab531",
        "colab": {
          "base_uri": "https://localhost:8080/",
          "height": 550
        }
      },
      "source": [
        "## Ecco Tips\n",
        "limit = 15 # set limit to be greater than or equal to the total number of tips\n",
        "url = 'https://api.foursquare.com/v2/venues/{}/tips?client_id={}&client_secret={}&v={}&limit={}'.format(venue_id, CLIENT_ID, CLIENT_SECRET, VERSION, limit)\n",
        "\n",
        "results = requests.get(url).json()\n",
        "results"
      ],
      "execution_count": 96,
      "outputs": [
        {
          "output_type": "execute_result",
          "data": {
            "text/plain": [
              "{'meta': {'code': 200, 'requestId': '5d88a040446ea600393f2221'},\n",
              " 'response': {'tips': {'count': 11,\n",
              "   'items': [{'agreeCount': 0,\n",
              "     'canonicalUrl': 'https://foursquare.com/item/567c9ebc498ed7c004fff225',\n",
              "     'createdAt': 1451007676,\n",
              "     'disagreeCount': 0,\n",
              "     'id': '567c9ebc498ed7c004fff225',\n",
              "     'lang': 'en',\n",
              "     'likes': {'count': 0, 'groups': []},\n",
              "     'logView': True,\n",
              "     'photo': {'createdAt': 1451007680,\n",
              "      'height': 1440,\n",
              "      'id': '567c9ec0498ee31e8d2da41c',\n",
              "      'prefix': 'https://fastly.4sqi.net/img/general/',\n",
              "      'source': {'name': 'Foursquare for iOS',\n",
              "       'url': 'https://foursquare.com/download/#/iphone'},\n",
              "      'suffix': '/10446912_YVX1R3iXY1qO1QBl3xY5wt72TLpDKhKar5DQsvj2u68.jpg',\n",
              "      'visibility': 'public',\n",
              "      'width': 1920},\n",
              "     'photourl': 'https://fastly.4sqi.net/img/general/original/10446912_YVX1R3iXY1qO1QBl3xY5wt72TLpDKhKar5DQsvj2u68.jpg',\n",
              "     'text': 'Spicy squid is fantastic. Dry chilli chicken is good. Everything we ordered was good. Super fast service. Like scary fast',\n",
              "     'todo': {'count': 0},\n",
              "     'type': 'user',\n",
              "     'user': {'firstName': 'Dominiquenotdom',\n",
              "      'gender': 'female',\n",
              "      'id': '10446912',\n",
              "      'lastName': 'Nomura',\n",
              "      'photo': {'prefix': 'https://fastly.4sqi.net/img/user/',\n",
              "       'suffix': '/YXU02HHW2SIP210Z.jpg'}}}]}}}"
            ]
          },
          "metadata": {
            "tags": []
          },
          "execution_count": 96
        }
      ]
    },
    {
      "cell_type": "code",
      "metadata": {
        "id": "LPDByqmeLc6h",
        "colab_type": "code",
        "outputId": "fea54855-7300-4fa2-c2b8-61f2e3b6c1f4",
        "colab": {
          "base_uri": "https://localhost:8080/",
          "height": 74
        }
      },
      "source": [
        "tips = results['response']['tips']['items']\n",
        "\n",
        "tip = results['response']['tips']['items'][0]\n",
        "tip.keys()"
      ],
      "execution_count": 97,
      "outputs": [
        {
          "output_type": "execute_result",
          "data": {
            "text/plain": [
              "dict_keys(['id', 'createdAt', 'text', 'type', 'canonicalUrl', 'photo', 'photourl', 'lang', 'likes', 'logView', 'agreeCount', 'disagreeCount', 'todo', 'user'])"
            ]
          },
          "metadata": {
            "tags": []
          },
          "execution_count": 97
        }
      ]
    },
    {
      "cell_type": "code",
      "metadata": {
        "id": "y1VPPGyTLiHD",
        "colab_type": "code",
        "outputId": "d0dd6c82-77dc-45e6-f482-ec2b96200731",
        "colab": {
          "base_uri": "https://localhost:8080/",
          "height": 131
        }
      },
      "source": [
        "pd.set_option('display.max_colwidth', -1)\n",
        "\n",
        "tips_df = json_normalize(tips) # json normalize tips\n",
        "\n",
        "# columns to keep\n",
        "filtered_columns = ['text', 'agreeCount', 'disagreeCount', 'id', 'user.firstName', 'user.lastName', 'user.gender', 'user.id']\n",
        "tips_filtered = tips_df.loc[:, filtered_columns]\n",
        "\n",
        "# display tips\n",
        "tips_filtered"
      ],
      "execution_count": 98,
      "outputs": [
        {
          "output_type": "execute_result",
          "data": {
            "text/html": [
              "<div>\n",
              "<style scoped>\n",
              "    .dataframe tbody tr th:only-of-type {\n",
              "        vertical-align: middle;\n",
              "    }\n",
              "\n",
              "    .dataframe tbody tr th {\n",
              "        vertical-align: top;\n",
              "    }\n",
              "\n",
              "    .dataframe thead th {\n",
              "        text-align: right;\n",
              "    }\n",
              "</style>\n",
              "<table border=\"1\" class=\"dataframe\">\n",
              "  <thead>\n",
              "    <tr style=\"text-align: right;\">\n",
              "      <th></th>\n",
              "      <th>text</th>\n",
              "      <th>agreeCount</th>\n",
              "      <th>disagreeCount</th>\n",
              "      <th>id</th>\n",
              "      <th>user.firstName</th>\n",
              "      <th>user.lastName</th>\n",
              "      <th>user.gender</th>\n",
              "      <th>user.id</th>\n",
              "    </tr>\n",
              "  </thead>\n",
              "  <tbody>\n",
              "    <tr>\n",
              "      <th>0</th>\n",
              "      <td>Spicy squid is fantastic. Dry chilli chicken is good. Everything we ordered was good. Super fast service. Like scary fast</td>\n",
              "      <td>0</td>\n",
              "      <td>0</td>\n",
              "      <td>567c9ebc498ed7c004fff225</td>\n",
              "      <td>Dominiquenotdom</td>\n",
              "      <td>Nomura</td>\n",
              "      <td>female</td>\n",
              "      <td>10446912</td>\n",
              "    </tr>\n",
              "  </tbody>\n",
              "</table>\n",
              "</div>"
            ],
            "text/plain": [
              "                                                                                                                        text  ...   user.id\n",
              "0  Spicy squid is fantastic. Dry chilli chicken is good. Everything we ordered was good. Super fast service. Like scary fast  ...  10446912\n",
              "\n",
              "[1 rows x 8 columns]"
            ]
          },
          "metadata": {
            "tags": []
          },
          "execution_count": 98
        }
      ]
    },
    {
      "cell_type": "markdown",
      "metadata": {
        "id": "a4nNEA6vyFcr",
        "colab_type": "text"
      },
      "source": [
        "**Find user who provided a positive rating and his activities**"
      ]
    },
    {
      "cell_type": "code",
      "metadata": {
        "id": "_v1r7merLmeS",
        "colab_type": "code",
        "outputId": "4c51d47b-e6bb-4969-fa0e-5b5a263c2852",
        "colab": {
          "base_uri": "https://localhost:8080/",
          "height": 68
        }
      },
      "source": [
        "user_id = '10446912' # user ID with most agree counts and complete profile\n",
        "\n",
        "url = 'https://api.foursquare.com/v2/users/{}?client_id={}&client_secret={}&v={}'.format(user_id, CLIENT_ID, CLIENT_SECRET, VERSION) # define URL\n",
        "\n",
        "# send GET request\n",
        "results = requests.get(url).json()\n",
        "user_data = results['response']['user']\n",
        "\n",
        "# display features associated with user\n",
        "user_data.keys()\n",
        "\n",
        "print('First Name: ' + user_data['firstName'])\n",
        "print('Last Name: ' + user_data['lastName'])\n",
        "print('Home City: ' + user_data['homeCity'])"
      ],
      "execution_count": 99,
      "outputs": [
        {
          "output_type": "stream",
          "text": [
            "First Name: Dominiquenotdom\n",
            "Last Name: Nomura\n",
            "Home City: Toronto, Canada\n"
          ],
          "name": "stdout"
        }
      ]
    },
    {
      "cell_type": "code",
      "metadata": {
        "id": "yRGB0ahALxLT",
        "colab_type": "code",
        "outputId": "6d097fa6-2c03-487d-adee-7d242bd8f358",
        "colab": {
          "base_uri": "https://localhost:8080/",
          "height": 34
        }
      },
      "source": [
        "user_data['tips']"
      ],
      "execution_count": 100,
      "outputs": [
        {
          "output_type": "execute_result",
          "data": {
            "text/plain": [
              "{'count': 203}"
            ]
          },
          "metadata": {
            "tags": []
          },
          "execution_count": 100
        }
      ]
    },
    {
      "cell_type": "code",
      "metadata": {
        "id": "8LLxe2V0L51n",
        "colab_type": "code",
        "outputId": "e4540fe5-431b-444f-e371-df77f8adab65",
        "colab": {
          "base_uri": "https://localhost:8080/",
          "height": 599
        }
      },
      "source": [
        "# define tips URL\n",
        "url = 'https://api.foursquare.com/v2/users/{}/tips?client_id={}&client_secret={}&v={}&limit={}'.format(user_id, CLIENT_ID, CLIENT_SECRET, VERSION, limit)\n",
        "\n",
        "# send GET request and get user's tips\n",
        "results = requests.get(url).json()\n",
        "tips = results['response']['tips']['items']\n",
        "\n",
        "# format column width\n",
        "pd.set_option('display.max_colwidth', -1)\n",
        "\n",
        "tips_df = json_normalize(tips)\n",
        "\n",
        "# filter columns\n",
        "filtered_columns = ['text', 'agreeCount', 'disagreeCount', 'id']\n",
        "tips_filtered = tips_df.loc[:, filtered_columns]\n",
        "\n",
        "# display user's tips\n",
        "tips_filtered"
      ],
      "execution_count": 101,
      "outputs": [
        {
          "output_type": "execute_result",
          "data": {
            "text/html": [
              "<div>\n",
              "<style scoped>\n",
              "    .dataframe tbody tr th:only-of-type {\n",
              "        vertical-align: middle;\n",
              "    }\n",
              "\n",
              "    .dataframe tbody tr th {\n",
              "        vertical-align: top;\n",
              "    }\n",
              "\n",
              "    .dataframe thead th {\n",
              "        text-align: right;\n",
              "    }\n",
              "</style>\n",
              "<table border=\"1\" class=\"dataframe\">\n",
              "  <thead>\n",
              "    <tr style=\"text-align: right;\">\n",
              "      <th></th>\n",
              "      <th>text</th>\n",
              "      <th>agreeCount</th>\n",
              "      <th>disagreeCount</th>\n",
              "      <th>id</th>\n",
              "    </tr>\n",
              "  </thead>\n",
              "  <tbody>\n",
              "    <tr>\n",
              "      <th>0</th>\n",
              "      <td>It’s all about the sauce! Chicken chimichanga and Mexican corn</td>\n",
              "      <td>0</td>\n",
              "      <td>0</td>\n",
              "      <td>5d87bbd834d80900069759e0</td>\n",
              "    </tr>\n",
              "    <tr>\n",
              "      <th>1</th>\n",
              "      <td>Unlimited refills on most drinks. Enchilada is pretty large for the price. Burrito supreme is massive. Cheese quesadilla for the kids. I’ll try the enchilada next time</td>\n",
              "      <td>0</td>\n",
              "      <td>0</td>\n",
              "      <td>5d828f88372b380006061f40</td>\n",
              "    </tr>\n",
              "    <tr>\n",
              "      <th>2</th>\n",
              "      <td>Call ahead for reservations. I waited over an hour for a table for 4 and people who came much later got a table before me. The food was delicious. They charge $4.50 tea/water. it’s a la carte.</td>\n",
              "      <td>0</td>\n",
              "      <td>0</td>\n",
              "      <td>5c7c1a3ecabcff0039b6f4a0</td>\n",
              "    </tr>\n",
              "    <tr>\n",
              "      <th>3</th>\n",
              "      <td>Portions are large. We ordered à kids pizza, vegetarian pizza, steak calzone, bruschetta &amp; carrot cake. The carrot cake is enough to feed 3 people. I'd order the pizza again and cake.</td>\n",
              "      <td>0</td>\n",
              "      <td>0</td>\n",
              "      <td>5bd91c46c66666003927ebb9</td>\n",
              "    </tr>\n",
              "    <tr>\n",
              "      <th>4</th>\n",
              "      <td>Karage was good, gyozas were good. Had the pork ramen, it was ok.</td>\n",
              "      <td>1</td>\n",
              "      <td>0</td>\n",
              "      <td>5b19c6e0a22db70039825975</td>\n",
              "    </tr>\n",
              "    <tr>\n",
              "      <th>5</th>\n",
              "      <td>The cauliflower steak is good but next time I'll ask them not to put Olives on them as I'm not a fan</td>\n",
              "      <td>0</td>\n",
              "      <td>0</td>\n",
              "      <td>5a832073f0b4907b948d0574</td>\n",
              "    </tr>\n",
              "    <tr>\n",
              "      <th>6</th>\n",
              "      <td>No line up like bang bang and lots of flavours to choose from.</td>\n",
              "      <td>0</td>\n",
              "      <td>0</td>\n",
              "      <td>59e8080a2f97ec782aac5b79</td>\n",
              "    </tr>\n",
              "    <tr>\n",
              "      <th>7</th>\n",
              "      <td>A year later</td>\n",
              "      <td>0</td>\n",
              "      <td>0</td>\n",
              "      <td>59e2b54ca6031c4fcf1ed086</td>\n",
              "    </tr>\n",
              "    <tr>\n",
              "      <th>8</th>\n",
              "      <td>Taco salad was delicious. Corn tortillas for enchiladas and they were fantastic.</td>\n",
              "      <td>0</td>\n",
              "      <td>0</td>\n",
              "      <td>59488f78d48ec15bbe6aeabe</td>\n",
              "    </tr>\n",
              "    <tr>\n",
              "      <th>9</th>\n",
              "      <td>Desserts! This location has creme brûlée and pecan pie. Usually desserts suck at Mandarin :)</td>\n",
              "      <td>0</td>\n",
              "      <td>0</td>\n",
              "      <td>5835eee7005a0f4a1aba2cc4</td>\n",
              "    </tr>\n",
              "    <tr>\n",
              "      <th>10</th>\n",
              "      <td>Breakfast included doesn't include eggs or bacon that's extra but you do get bagels, yogurt, cereal, yummy pastries, etc</td>\n",
              "      <td>0</td>\n",
              "      <td>0</td>\n",
              "      <td>57fcf23ecd104e1738c16567</td>\n",
              "    </tr>\n",
              "    <tr>\n",
              "      <th>11</th>\n",
              "      <td>Inhaled all the food since it's so delicious. The shrimp sauce is so good. Pizza is really good quality.</td>\n",
              "      <td>0</td>\n",
              "      <td>0</td>\n",
              "      <td>57b10c6d498eb7b369a25170</td>\n",
              "    </tr>\n",
              "    <tr>\n",
              "      <th>12</th>\n",
              "      <td>Omg soooo delicious!!!</td>\n",
              "      <td>0</td>\n",
              "      <td>0</td>\n",
              "      <td>577fa5a0498e153def921d48</td>\n",
              "    </tr>\n",
              "    <tr>\n",
              "      <th>13</th>\n",
              "      <td>Amazing mashed potatoes. Food is good. Come hungry!</td>\n",
              "      <td>0</td>\n",
              "      <td>0</td>\n",
              "      <td>57250bc4498e70600650264d</td>\n",
              "    </tr>\n",
              "    <tr>\n",
              "      <th>14</th>\n",
              "      <td>My husband said that he likes Zen Garden because he doesn't have to worry about eating gristle or bones - he is a meat eater</td>\n",
              "      <td>0</td>\n",
              "      <td>0</td>\n",
              "      <td>571e52de498e8dfa7adcdb53</td>\n",
              "    </tr>\n",
              "  </tbody>\n",
              "</table>\n",
              "</div>"
            ],
            "text/plain": [
              "                                                                                                                                                                                                text  ...                        id\n",
              "0   It’s all about the sauce! Chicken chimichanga and Mexican corn                                                                                                                                    ...  5d87bbd834d80900069759e0\n",
              "1   Unlimited refills on most drinks. Enchilada is pretty large for the price. Burrito supreme is massive. Cheese quesadilla for the kids. I’ll try the enchilada next time                           ...  5d828f88372b380006061f40\n",
              "2   Call ahead for reservations. I waited over an hour for a table for 4 and people who came much later got a table before me. The food was delicious. They charge $4.50 tea/water. it’s a la carte.  ...  5c7c1a3ecabcff0039b6f4a0\n",
              "3   Portions are large. We ordered à kids pizza, vegetarian pizza, steak calzone, bruschetta & carrot cake. The carrot cake is enough to feed 3 people. I'd order the pizza again and cake.           ...  5bd91c46c66666003927ebb9\n",
              "4   Karage was good, gyozas were good. Had the pork ramen, it was ok.                                                                                                                                 ...  5b19c6e0a22db70039825975\n",
              "5   The cauliflower steak is good but next time I'll ask them not to put Olives on them as I'm not a fan                                                                                              ...  5a832073f0b4907b948d0574\n",
              "6   No line up like bang bang and lots of flavours to choose from.                                                                                                                                    ...  59e8080a2f97ec782aac5b79\n",
              "7   A year later                                                                                                                                                                                      ...  59e2b54ca6031c4fcf1ed086\n",
              "8   Taco salad was delicious. Corn tortillas for enchiladas and they were fantastic.                                                                                                                  ...  59488f78d48ec15bbe6aeabe\n",
              "9   Desserts! This location has creme brûlée and pecan pie. Usually desserts suck at Mandarin :)                                                                                                      ...  5835eee7005a0f4a1aba2cc4\n",
              "10  Breakfast included doesn't include eggs or bacon that's extra but you do get bagels, yogurt, cereal, yummy pastries, etc                                                                          ...  57fcf23ecd104e1738c16567\n",
              "11  Inhaled all the food since it's so delicious. The shrimp sauce is so good. Pizza is really good quality.                                                                                          ...  57b10c6d498eb7b369a25170\n",
              "12  Omg soooo delicious!!!                                                                                                                                                                            ...  577fa5a0498e153def921d48\n",
              "13  Amazing mashed potatoes. Food is good. Come hungry!                                                                                                                                               ...  57250bc4498e70600650264d\n",
              "14  My husband said that he likes Zen Garden because he doesn't have to worry about eating gristle or bones - he is a meat eater                                                                      ...  571e52de498e8dfa7adcdb53\n",
              "\n",
              "[15 rows x 4 columns]"
            ]
          },
          "metadata": {
            "tags": []
          },
          "execution_count": 101
        }
      ]
    },
    {
      "cell_type": "code",
      "metadata": {
        "id": "FpQx4Wz9L8IZ",
        "colab_type": "code",
        "outputId": "f59d97ac-b9b4-470c-81de-e442c98888e0",
        "colab": {
          "base_uri": "https://localhost:8080/",
          "height": 111
        }
      },
      "source": [
        "tip_id = '5b19c6e0a22db70039825975' # tip id\n",
        "\n",
        "# define URL\n",
        "url = 'http://api.foursquare.com/v2/tips/{}?client_id={}&client_secret={}&v={}'.format(tip_id, CLIENT_ID, CLIENT_SECRET, VERSION)\n",
        "\n",
        "# send GET Request and examine results\n",
        "result = requests.get(url).json()\n",
        "print(result['response']['tip']['venue']['name'])\n",
        "print(result['response']['tip']['venue']['location'])"
      ],
      "execution_count": 103,
      "outputs": [
        {
          "output_type": "stream",
          "text": [
            "Kinton Ramen\n",
            "{'address': '4026 Confederation', 'lat': 43.58539228095156, 'lng': -79.64570123284585, 'labeledLatLngs': [{'label': 'display', 'lat': 43.58539228095156, 'lng': -79.64570123284585}], 'postalCode': 'L5B', 'cc': 'CA', 'neighborhood': 'Cooksville', 'city': 'Mississauga', 'state': 'ON', 'country': 'Canada', 'formattedAddress': ['4026 Confederation', 'Mississauga ON L5B', 'Canada']}\n"
          ],
          "name": "stdout"
        }
      ]
    },
    {
      "cell_type": "code",
      "metadata": {
        "id": "q8elb635ME2i",
        "colab_type": "code",
        "outputId": "6aa88e04-2272-408b-bc49-828bb13df3c4",
        "colab": {
          "base_uri": "https://localhost:8080/",
          "height": 909
        }
      },
      "source": [
        "user_friends = json_normalize(user_data['friends']['groups'][0]['items'])\n",
        "user_friends"
      ],
      "execution_count": 104,
      "outputs": [
        {
          "output_type": "execute_result",
          "data": {
            "text/html": [
              "<div>\n",
              "<style scoped>\n",
              "    .dataframe tbody tr th:only-of-type {\n",
              "        vertical-align: middle;\n",
              "    }\n",
              "\n",
              "    .dataframe tbody tr th {\n",
              "        vertical-align: top;\n",
              "    }\n",
              "\n",
              "    .dataframe thead th {\n",
              "        text-align: right;\n",
              "    }\n",
              "</style>\n",
              "<table border=\"1\" class=\"dataframe\">\n",
              "  <thead>\n",
              "    <tr style=\"text-align: right;\">\n",
              "      <th></th>\n",
              "      <th>bio</th>\n",
              "      <th>firstName</th>\n",
              "      <th>gender</th>\n",
              "      <th>homeCity</th>\n",
              "      <th>id</th>\n",
              "      <th>lastName</th>\n",
              "      <th>lists.groups</th>\n",
              "      <th>photo.default</th>\n",
              "      <th>photo.prefix</th>\n",
              "      <th>photo.suffix</th>\n",
              "      <th>tips.count</th>\n",
              "    </tr>\n",
              "  </thead>\n",
              "  <tbody>\n",
              "    <tr>\n",
              "      <th>0</th>\n",
              "      <td></td>\n",
              "      <td>Gavin</td>\n",
              "      <td>male</td>\n",
              "      <td>Ontario</td>\n",
              "      <td>48903324</td>\n",
              "      <td>H.</td>\n",
              "      <td>[{'type': 'created', 'count': 2, 'items': []}]</td>\n",
              "      <td>NaN</td>\n",
              "      <td>https://fastly.4sqi.net/img/user/</td>\n",
              "      <td>/4TOZCXDWGLZWLMOB.jpg</td>\n",
              "      <td>21</td>\n",
              "    </tr>\n",
              "    <tr>\n",
              "      <th>1</th>\n",
              "      <td></td>\n",
              "      <td>Sandy</td>\n",
              "      <td>female</td>\n",
              "      <td>Toronto, ON</td>\n",
              "      <td>71869926</td>\n",
              "      <td>Lai</td>\n",
              "      <td>[{'type': 'created', 'count': 2, 'items': []}]</td>\n",
              "      <td>NaN</td>\n",
              "      <td>https://fastly.4sqi.net/img/user/</td>\n",
              "      <td>/71869926-4PO0LMEWK2Q4XGUM.jpg</td>\n",
              "      <td>2</td>\n",
              "    </tr>\n",
              "    <tr>\n",
              "      <th>2</th>\n",
              "      <td></td>\n",
              "      <td>Neill</td>\n",
              "      <td>male</td>\n",
              "      <td>Toronto, ON</td>\n",
              "      <td>62535903</td>\n",
              "      <td>Sturgess</td>\n",
              "      <td>[{'type': 'created', 'count': 2, 'items': []}]</td>\n",
              "      <td>NaN</td>\n",
              "      <td>https://fastly.4sqi.net/img/user/</td>\n",
              "      <td>/UHXI3O53PD214LRE.jpg</td>\n",
              "      <td>0</td>\n",
              "    </tr>\n",
              "    <tr>\n",
              "      <th>3</th>\n",
              "      <td></td>\n",
              "      <td>Michael</td>\n",
              "      <td>male</td>\n",
              "      <td>Québec</td>\n",
              "      <td>49392602</td>\n",
              "      <td>David</td>\n",
              "      <td>[{'type': 'created', 'count': 2, 'items': []}]</td>\n",
              "      <td>NaN</td>\n",
              "      <td>https://fastly.4sqi.net/img/user/</td>\n",
              "      <td>/3IRV5P5PB1JOWKQQ.jpg</td>\n",
              "      <td>0</td>\n",
              "    </tr>\n",
              "    <tr>\n",
              "      <th>4</th>\n",
              "      <td></td>\n",
              "      <td>Brian</td>\n",
              "      <td>male</td>\n",
              "      <td>Ontario</td>\n",
              "      <td>46265588</td>\n",
              "      <td>Ramsay</td>\n",
              "      <td>[{'type': 'created', 'count': 2, 'items': []}]</td>\n",
              "      <td>NaN</td>\n",
              "      <td>https://fastly.4sqi.net/img/user/</td>\n",
              "      <td>/G52232PMPGDKTT4P.jpg</td>\n",
              "      <td>7</td>\n",
              "    </tr>\n",
              "    <tr>\n",
              "      <th>5</th>\n",
              "      <td></td>\n",
              "      <td>Alex</td>\n",
              "      <td>male</td>\n",
              "      <td>Ontario</td>\n",
              "      <td>48261502</td>\n",
              "      <td>Rondini</td>\n",
              "      <td>[{'type': 'created', 'count': 2, 'items': []}]</td>\n",
              "      <td>NaN</td>\n",
              "      <td>https://fastly.4sqi.net/img/user/</td>\n",
              "      <td>/YSEGSWE54Z0JTNO3.jpg</td>\n",
              "      <td>5</td>\n",
              "    </tr>\n",
              "    <tr>\n",
              "      <th>6</th>\n",
              "      <td></td>\n",
              "      <td>Chris</td>\n",
              "      <td>male</td>\n",
              "      <td>Ontario</td>\n",
              "      <td>43508685</td>\n",
              "      <td>Melville</td>\n",
              "      <td>[{'type': 'created', 'count': 2, 'items': []}]</td>\n",
              "      <td>NaN</td>\n",
              "      <td>https://fastly.4sqi.net/img/user/</td>\n",
              "      <td>/TCJL5CYIA35AFVY4.jpg</td>\n",
              "      <td>3</td>\n",
              "    </tr>\n",
              "    <tr>\n",
              "      <th>7</th>\n",
              "      <td></td>\n",
              "      <td>Lisa</td>\n",
              "      <td>female</td>\n",
              "      <td>Toronto, ON</td>\n",
              "      <td>68488740</td>\n",
              "      <td>Rondini</td>\n",
              "      <td>[{'type': 'created', 'count': 2, 'items': []}]</td>\n",
              "      <td>True</td>\n",
              "      <td>https://fastly.4sqi.net/img/user/</td>\n",
              "      <td>/blank_girl.png</td>\n",
              "      <td>1</td>\n",
              "    </tr>\n",
              "    <tr>\n",
              "      <th>8</th>\n",
              "      <td></td>\n",
              "      <td>Brian</td>\n",
              "      <td>none</td>\n",
              "      <td>Toronto, ON</td>\n",
              "      <td>62909622</td>\n",
              "      <td>C</td>\n",
              "      <td>[{'type': 'created', 'count': 2, 'items': []}]</td>\n",
              "      <td>True</td>\n",
              "      <td>https://fastly.4sqi.net/img/user/</td>\n",
              "      <td>/blank_boy.png</td>\n",
              "      <td>2</td>\n",
              "    </tr>\n",
              "    <tr>\n",
              "      <th>9</th>\n",
              "      <td></td>\n",
              "      <td>Michael</td>\n",
              "      <td>male</td>\n",
              "      <td>Toronto, ON</td>\n",
              "      <td>55790388</td>\n",
              "      <td>Ramsay</td>\n",
              "      <td>[{'type': 'created', 'count': 2, 'items': []}]</td>\n",
              "      <td>True</td>\n",
              "      <td>https://fastly.4sqi.net/img/user/</td>\n",
              "      <td>/blank_boy.png</td>\n",
              "      <td>0</td>\n",
              "    </tr>\n",
              "  </tbody>\n",
              "</table>\n",
              "</div>"
            ],
            "text/plain": [
              "  bio firstName  ...                    photo.suffix tips.count\n",
              "0      Gavin     ...  /4TOZCXDWGLZWLMOB.jpg           21       \n",
              "1      Sandy     ...  /71869926-4PO0LMEWK2Q4XGUM.jpg  2        \n",
              "2      Neill     ...  /UHXI3O53PD214LRE.jpg           0        \n",
              "3      Michael   ...  /3IRV5P5PB1JOWKQQ.jpg           0        \n",
              "4      Brian     ...  /G52232PMPGDKTT4P.jpg           7        \n",
              "5      Alex      ...  /YSEGSWE54Z0JTNO3.jpg           5        \n",
              "6      Chris     ...  /TCJL5CYIA35AFVY4.jpg           3        \n",
              "7      Lisa      ...  /blank_girl.png                 1        \n",
              "8      Brian     ...  /blank_boy.png                  2        \n",
              "9      Michael   ...  /blank_boy.png                  0        \n",
              "\n",
              "[10 rows x 11 columns]"
            ]
          },
          "metadata": {
            "tags": []
          },
          "execution_count": 104
        }
      ]
    },
    {
      "cell_type": "code",
      "metadata": {
        "id": "jDcDM5-zMHD3",
        "colab_type": "code",
        "outputId": "c27599d0-f518-41a0-e1ae-21739a3a2eef",
        "colab": {
          "base_uri": "https://localhost:8080/",
          "height": 1000
        }
      },
      "source": [
        "user_data"
      ],
      "execution_count": 105,
      "outputs": [
        {
          "output_type": "execute_result",
          "data": {
            "text/plain": [
              "{'bio': '',\n",
              " 'canonicalUrl': 'https://foursquare.com/user/10446912',\n",
              " 'checkins': {'count': 1516, 'items': []},\n",
              " 'contact': {},\n",
              " 'firstName': 'Dominiquenotdom',\n",
              " 'friends': {'count': 40,\n",
              "  'groups': [{'count': 40,\n",
              "    'items': [{'bio': '',\n",
              "      'contact': {},\n",
              "      'firstName': 'Gavin',\n",
              "      'gender': 'male',\n",
              "      'homeCity': 'Ontario',\n",
              "      'id': '48903324',\n",
              "      'lastName': 'H.',\n",
              "      'lists': {'groups': [{'count': 2, 'items': [], 'type': 'created'}]},\n",
              "      'photo': {'prefix': 'https://fastly.4sqi.net/img/user/',\n",
              "       'suffix': '/4TOZCXDWGLZWLMOB.jpg'},\n",
              "      'tips': {'count': 21}},\n",
              "     {'bio': '',\n",
              "      'contact': {},\n",
              "      'firstName': 'Sandy',\n",
              "      'gender': 'female',\n",
              "      'homeCity': 'Toronto, ON',\n",
              "      'id': '71869926',\n",
              "      'lastName': 'Lai',\n",
              "      'lists': {'groups': [{'count': 2, 'items': [], 'type': 'created'}]},\n",
              "      'photo': {'prefix': 'https://fastly.4sqi.net/img/user/',\n",
              "       'suffix': '/71869926-4PO0LMEWK2Q4XGUM.jpg'},\n",
              "      'tips': {'count': 2}},\n",
              "     {'bio': '',\n",
              "      'contact': {},\n",
              "      'firstName': 'Neill',\n",
              "      'gender': 'male',\n",
              "      'homeCity': 'Toronto, ON',\n",
              "      'id': '62535903',\n",
              "      'lastName': 'Sturgess',\n",
              "      'lists': {'groups': [{'count': 2, 'items': [], 'type': 'created'}]},\n",
              "      'photo': {'prefix': 'https://fastly.4sqi.net/img/user/',\n",
              "       'suffix': '/UHXI3O53PD214LRE.jpg'},\n",
              "      'tips': {'count': 0}},\n",
              "     {'bio': '',\n",
              "      'contact': {},\n",
              "      'firstName': 'Michael',\n",
              "      'gender': 'male',\n",
              "      'homeCity': 'Québec',\n",
              "      'id': '49392602',\n",
              "      'lastName': 'David',\n",
              "      'lists': {'groups': [{'count': 2, 'items': [], 'type': 'created'}]},\n",
              "      'photo': {'prefix': 'https://fastly.4sqi.net/img/user/',\n",
              "       'suffix': '/3IRV5P5PB1JOWKQQ.jpg'},\n",
              "      'tips': {'count': 0}},\n",
              "     {'bio': '',\n",
              "      'contact': {},\n",
              "      'firstName': 'Brian',\n",
              "      'gender': 'male',\n",
              "      'homeCity': 'Ontario',\n",
              "      'id': '46265588',\n",
              "      'lastName': 'Ramsay',\n",
              "      'lists': {'groups': [{'count': 2, 'items': [], 'type': 'created'}]},\n",
              "      'photo': {'prefix': 'https://fastly.4sqi.net/img/user/',\n",
              "       'suffix': '/G52232PMPGDKTT4P.jpg'},\n",
              "      'tips': {'count': 7}},\n",
              "     {'bio': '',\n",
              "      'contact': {},\n",
              "      'firstName': 'Alex',\n",
              "      'gender': 'male',\n",
              "      'homeCity': 'Ontario',\n",
              "      'id': '48261502',\n",
              "      'lastName': 'Rondini',\n",
              "      'lists': {'groups': [{'count': 2, 'items': [], 'type': 'created'}]},\n",
              "      'photo': {'prefix': 'https://fastly.4sqi.net/img/user/',\n",
              "       'suffix': '/YSEGSWE54Z0JTNO3.jpg'},\n",
              "      'tips': {'count': 5}},\n",
              "     {'bio': '',\n",
              "      'contact': {},\n",
              "      'firstName': 'Chris',\n",
              "      'gender': 'male',\n",
              "      'homeCity': 'Ontario',\n",
              "      'id': '43508685',\n",
              "      'lastName': 'Melville',\n",
              "      'lists': {'groups': [{'count': 2, 'items': [], 'type': 'created'}]},\n",
              "      'photo': {'prefix': 'https://fastly.4sqi.net/img/user/',\n",
              "       'suffix': '/TCJL5CYIA35AFVY4.jpg'},\n",
              "      'tips': {'count': 3}},\n",
              "     {'bio': '',\n",
              "      'contact': {},\n",
              "      'firstName': 'Lisa',\n",
              "      'gender': 'female',\n",
              "      'homeCity': 'Toronto, ON',\n",
              "      'id': '68488740',\n",
              "      'lastName': 'Rondini',\n",
              "      'lists': {'groups': [{'count': 2, 'items': [], 'type': 'created'}]},\n",
              "      'photo': {'default': True,\n",
              "       'prefix': 'https://fastly.4sqi.net/img/user/',\n",
              "       'suffix': '/blank_girl.png'},\n",
              "      'tips': {'count': 1}},\n",
              "     {'bio': '',\n",
              "      'contact': {},\n",
              "      'firstName': 'Brian',\n",
              "      'gender': 'none',\n",
              "      'homeCity': 'Toronto, ON',\n",
              "      'id': '62909622',\n",
              "      'lastName': 'C',\n",
              "      'lists': {'groups': [{'count': 2, 'items': [], 'type': 'created'}]},\n",
              "      'photo': {'default': True,\n",
              "       'prefix': 'https://fastly.4sqi.net/img/user/',\n",
              "       'suffix': '/blank_boy.png'},\n",
              "      'tips': {'count': 2}},\n",
              "     {'bio': '',\n",
              "      'contact': {},\n",
              "      'firstName': 'Michael',\n",
              "      'gender': 'male',\n",
              "      'homeCity': 'Toronto, ON',\n",
              "      'id': '55790388',\n",
              "      'lastName': 'Ramsay',\n",
              "      'lists': {'groups': [{'count': 2, 'items': [], 'type': 'created'}]},\n",
              "      'photo': {'default': True,\n",
              "       'prefix': 'https://fastly.4sqi.net/img/user/',\n",
              "       'suffix': '/blank_boy.png'},\n",
              "      'tips': {'count': 0}}],\n",
              "    'name': 'Other friends',\n",
              "    'type': 'others'}]},\n",
              " 'gender': 'female',\n",
              " 'homeCity': 'Toronto, Canada',\n",
              " 'id': '10446912',\n",
              " 'lastName': 'Nomura',\n",
              " 'lenses': [],\n",
              " 'lists': {'count': 3,\n",
              "  'groups': [{'count': 1,\n",
              "    'items': [{'canonicalUrl': 'https://foursquare.com/user/10446912/list/places-to-try',\n",
              "      'collaborative': False,\n",
              "      'createdAt': 1357992112,\n",
              "      'description': '',\n",
              "      'editable': False,\n",
              "      'followers': {'count': 0},\n",
              "      'id': '50f150b0e4b06fac7aff053a',\n",
              "      'listItems': {'count': 3},\n",
              "      'name': 'Places to try',\n",
              "      'public': True,\n",
              "      'updatedAt': 1388708025,\n",
              "      'url': '/user/10446912/list/places-to-try'}],\n",
              "    'type': 'created'},\n",
              "   {'count': 0, 'items': [], 'type': 'followed'},\n",
              "   {'count': 2,\n",
              "    'items': [{'canonicalUrl': 'https://foursquare.com/user/10446912/list/todos',\n",
              "      'collaborative': False,\n",
              "      'description': '',\n",
              "      'editable': False,\n",
              "      'id': '10446912/todos',\n",
              "      'listItems': {'count': 5},\n",
              "      'name': \"Dominiquenotdom's Saved Places\",\n",
              "      'public': True,\n",
              "      'type': 'todos',\n",
              "      'url': '/user/10446912/list/todos'},\n",
              "     {'canonicalUrl': 'https://foursquare.com/user/10446912/list/venuelikes',\n",
              "      'collaborative': False,\n",
              "      'description': '',\n",
              "      'editable': False,\n",
              "      'id': '10446912/venuelikes',\n",
              "      'listItems': {'count': 0},\n",
              "      'name': 'Dominiquenotdom’s Liked Places',\n",
              "      'public': True,\n",
              "      'type': 'likes',\n",
              "      'url': '/user/10446912/list/venuelikes'}],\n",
              "    'type': 'yours'}]},\n",
              " 'mayorships': {'count': 0, 'items': []},\n",
              " 'photo': {'prefix': 'https://fastly.4sqi.net/img/user/',\n",
              "  'suffix': '/YXU02HHW2SIP210Z.jpg'},\n",
              " 'photos': {'count': 0, 'items': []},\n",
              " 'tips': {'count': 203},\n",
              " 'type': 'user'}"
            ]
          },
          "metadata": {
            "tags": []
          },
          "execution_count": 105
        }
      ]
    },
    {
      "cell_type": "code",
      "metadata": {
        "id": "YWPrXuzBMLeZ",
        "colab_type": "code",
        "outputId": "585a0f01-13d1-4682-c687-e3a22d8e5e49",
        "colab": {
          "base_uri": "https://localhost:8080/",
          "height": 321
        }
      },
      "source": [
        "# 1. grab prefix of photo\n",
        "# 2. grab suffix of photo\n",
        "# 3. concatenate them using the image size  \n",
        "Image(url='https://fastly.4sqi.net/img/user/300x300/4TOZCXDWGLZWLMOB.jpg')"
      ],
      "execution_count": 106,
      "outputs": [
        {
          "output_type": "execute_result",
          "data": {
            "text/html": [
              "<img src=\"https://fastly.4sqi.net/img/user/300x300/4TOZCXDWGLZWLMOB.jpg\"/>"
            ],
            "text/plain": [
              "<IPython.core.display.Image object>"
            ]
          },
          "metadata": {
            "tags": []
          },
          "execution_count": 106
        }
      ]
    },
    {
      "cell_type": "markdown",
      "metadata": {
        "id": "qdaZ6JVtyUrR",
        "colab_type": "text"
      },
      "source": [
        "**Find if there are any other nearby Chinese Restaurants**"
      ]
    },
    {
      "cell_type": "code",
      "metadata": {
        "id": "0R9EjOBvMaYK",
        "colab_type": "code",
        "colab": {}
      },
      "source": [
        "latitude = 43.653963\n",
        "longitude = -79.387207\n",
        "\n",
        " \n",
        "\n",
        "url = 'https://api.foursquare.com/v2/venues/explore?client_id={}&client_secret={}&ll={},{}&v={}&radius={}&limit={}'.format(CLIENT_ID, CLIENT_SECRET, latitude, longitude, VERSION, radius, LIMIT)\n",
        "url"
      ],
      "execution_count": 0,
      "outputs": []
    },
    {
      "cell_type": "code",
      "metadata": {
        "id": "lLGBSrrVMyuE",
        "colab_type": "code",
        "colab": {}
      },
      "source": [
        "import requests"
      ],
      "execution_count": 0,
      "outputs": []
    },
    {
      "cell_type": "code",
      "metadata": {
        "id": "v_lJkP9JM5eJ",
        "colab_type": "code",
        "outputId": "21d964ec-369a-403b-a1e3-93be821043d6",
        "colab": {
          "base_uri": "https://localhost:8080/",
          "height": 34
        }
      },
      "source": [
        "results = requests.get(url).json()\n",
        "'There are {} around restaurant.'.format(len(results['response']['groups'][0]['items']))"
      ],
      "execution_count": 109,
      "outputs": [
        {
          "output_type": "execute_result",
          "data": {
            "text/plain": [
              "'There are 3 around restaurant.'"
            ]
          },
          "metadata": {
            "tags": []
          },
          "execution_count": 109
        }
      ]
    },
    {
      "cell_type": "code",
      "metadata": {
        "id": "sDFWvuk3M7rr",
        "colab_type": "code",
        "outputId": "64551d37-0b0b-4f50-f5eb-79cac626bf3c",
        "colab": {
          "base_uri": "https://localhost:8080/",
          "height": 561
        }
      },
      "source": [
        "items = results['response']['groups'][0]['items']\n",
        "items[0]"
      ],
      "execution_count": 110,
      "outputs": [
        {
          "output_type": "execute_result",
          "data": {
            "text/plain": [
              "{'reasons': {'count': 0,\n",
              "  'items': [{'reasonName': 'globalInteractionReason',\n",
              "    'summary': 'This spot is popular',\n",
              "    'type': 'general'}]},\n",
              " 'referralId': 'e-0-4ad4c05ef964a520e2f620e3-0',\n",
              " 'venue': {'categories': [{'icon': {'prefix': 'https://ss3.4sqi.net/img/categories_v2/arts_entertainment/museum_art_',\n",
              "     'suffix': '.png'},\n",
              "    'id': '4bf58dd8d48988d18f941735',\n",
              "    'name': 'Art Museum',\n",
              "    'pluralName': 'Art Museums',\n",
              "    'primary': True,\n",
              "    'shortName': 'Art Museum'}],\n",
              "  'id': '4ad4c05ef964a520e2f620e3',\n",
              "  'location': {'address': '55 Centre Avenue',\n",
              "   'cc': 'CA',\n",
              "   'city': 'Toronto',\n",
              "   'country': 'Canada',\n",
              "   'crossStreet': 'University Ave. and Dundas St W.',\n",
              "   'distance': 74,\n",
              "   'formattedAddress': ['55 Centre Avenue (University Ave. and Dundas St W.)',\n",
              "    'Toronto ON M5G 2H5',\n",
              "    'Canada'],\n",
              "   'labeledLatLngs': [{'label': 'display',\n",
              "     'lat': 43.65439630500274,\n",
              "     'lng': -79.38650010906946}],\n",
              "   'lat': 43.65439630500274,\n",
              "   'lng': -79.38650010906946,\n",
              "   'postalCode': 'M5G 2H5',\n",
              "   'state': 'ON'},\n",
              "  'name': 'Textile Museum of Canada',\n",
              "  'photos': {'count': 0, 'groups': []},\n",
              "  'venuePage': {'id': '56305293'}}}"
            ]
          },
          "metadata": {
            "tags": []
          },
          "execution_count": 110
        }
      ]
    },
    {
      "cell_type": "code",
      "metadata": {
        "id": "fNCh9OucNBbu",
        "colab_type": "code",
        "outputId": "77582461-6127-4359-a432-1802bdfd501f",
        "colab": {
          "base_uri": "https://localhost:8080/",
          "height": 335
        }
      },
      "source": [
        "dataframe = json_normalize(items) # flatten JSON\n",
        "\n",
        "# filter columns\n",
        "filtered_columns = ['venue.name', 'venue.categories'] + [col for col in dataframe.columns if col.startswith('venue.location.')] + ['venue.id']\n",
        "dataframe_filtered = dataframe.loc[:, filtered_columns]\n",
        "\n",
        "# filter the category for each row\n",
        "dataframe_filtered['venue.categories'] = dataframe_filtered.apply(get_category_type, axis=1)\n",
        "\n",
        "# clean columns\n",
        "dataframe_filtered.columns = [col.split('.')[-1] for col in dataframe_filtered.columns]\n",
        "\n",
        "dataframe_filtered.head(10)"
      ],
      "execution_count": 111,
      "outputs": [
        {
          "output_type": "execute_result",
          "data": {
            "text/html": [
              "<div>\n",
              "<style scoped>\n",
              "    .dataframe tbody tr th:only-of-type {\n",
              "        vertical-align: middle;\n",
              "    }\n",
              "\n",
              "    .dataframe tbody tr th {\n",
              "        vertical-align: top;\n",
              "    }\n",
              "\n",
              "    .dataframe thead th {\n",
              "        text-align: right;\n",
              "    }\n",
              "</style>\n",
              "<table border=\"1\" class=\"dataframe\">\n",
              "  <thead>\n",
              "    <tr style=\"text-align: right;\">\n",
              "      <th></th>\n",
              "      <th>name</th>\n",
              "      <th>categories</th>\n",
              "      <th>address</th>\n",
              "      <th>cc</th>\n",
              "      <th>city</th>\n",
              "      <th>country</th>\n",
              "      <th>crossStreet</th>\n",
              "      <th>distance</th>\n",
              "      <th>formattedAddress</th>\n",
              "      <th>labeledLatLngs</th>\n",
              "      <th>lat</th>\n",
              "      <th>lng</th>\n",
              "      <th>postalCode</th>\n",
              "      <th>state</th>\n",
              "      <th>id</th>\n",
              "    </tr>\n",
              "  </thead>\n",
              "  <tbody>\n",
              "    <tr>\n",
              "      <th>0</th>\n",
              "      <td>Textile Museum of Canada</td>\n",
              "      <td>Art Museum</td>\n",
              "      <td>55 Centre Avenue</td>\n",
              "      <td>CA</td>\n",
              "      <td>Toronto</td>\n",
              "      <td>Canada</td>\n",
              "      <td>University Ave. and Dundas St W.</td>\n",
              "      <td>74</td>\n",
              "      <td>[55 Centre Avenue (University Ave. and Dundas St W.), Toronto ON M5G 2H5, Canada]</td>\n",
              "      <td>[{'label': 'display', 'lat': 43.65439630500274, 'lng': -79.38650010906946}]</td>\n",
              "      <td>43.654396</td>\n",
              "      <td>-79.386500</td>\n",
              "      <td>M5G 2H5</td>\n",
              "      <td>ON</td>\n",
              "      <td>4ad4c05ef964a520e2f620e3</td>\n",
              "    </tr>\n",
              "    <tr>\n",
              "      <th>1</th>\n",
              "      <td>Starbucks</td>\n",
              "      <td>Coffee Shop</td>\n",
              "      <td>439 University Ave,101</td>\n",
              "      <td>CA</td>\n",
              "      <td>Toronto</td>\n",
              "      <td>Canada</td>\n",
              "      <td>NaN</td>\n",
              "      <td>50</td>\n",
              "      <td>[439 University Ave,101, Toronto ON M5G 2H6, Canada]</td>\n",
              "      <td>[{'label': 'display', 'lat': 43.654413, 'lng': -79.387201}]</td>\n",
              "      <td>43.654413</td>\n",
              "      <td>-79.387201</td>\n",
              "      <td>M5G 2H6</td>\n",
              "      <td>ON</td>\n",
              "      <td>5c5a865bbe7078002c14a735</td>\n",
              "    </tr>\n",
              "    <tr>\n",
              "      <th>2</th>\n",
              "      <td>Wah Too Seafood Restaurant</td>\n",
              "      <td>Chinese Restaurant</td>\n",
              "      <td>56 Centre Ave.</td>\n",
              "      <td>CA</td>\n",
              "      <td>Toronto</td>\n",
              "      <td>Canada</td>\n",
              "      <td>NaN</td>\n",
              "      <td>96</td>\n",
              "      <td>[56 Centre Ave., Toronto ON M5G 1R5, Canada]</td>\n",
              "      <td>[{'label': 'display', 'lat': 43.65483285234745, 'lng': -79.38720597193928}]</td>\n",
              "      <td>43.654833</td>\n",
              "      <td>-79.387206</td>\n",
              "      <td>M5G 1R5</td>\n",
              "      <td>ON</td>\n",
              "      <td>4c69740b8d22c9284d42b745</td>\n",
              "    </tr>\n",
              "  </tbody>\n",
              "</table>\n",
              "</div>"
            ],
            "text/plain": [
              "                         name  ...                        id\n",
              "0  Textile Museum of Canada    ...  4ad4c05ef964a520e2f620e3\n",
              "1  Starbucks                   ...  5c5a865bbe7078002c14a735\n",
              "2  Wah Too Seafood Restaurant  ...  4c69740b8d22c9284d42b745\n",
              "\n",
              "[3 rows x 15 columns]"
            ]
          },
          "metadata": {
            "tags": []
          },
          "execution_count": 111
        }
      ]
    },
    {
      "cell_type": "code",
      "metadata": {
        "id": "omSh356sNEux",
        "colab_type": "code",
        "outputId": "84cdb933-dee7-45ef-f65c-fb48e7aec324",
        "colab": {
          "base_uri": "https://localhost:8080/",
          "height": 672
        }
      },
      "source": [
        "venues_map = folium.Map(location=[latitude, longitude], zoom_start=15) # generate map centred around Ecco\n",
        "\n",
        "\n",
        "# add Ecco as a red circle mark\n",
        "folium.CircleMarker(\n",
        "    [latitude, longitude],\n",
        "    radius=10,\n",
        "    popup='Ecco',\n",
        "    fill=True,\n",
        "    color='red',\n",
        "    fill_color='red',\n",
        "    fill_opacity=0.6\n",
        "    ).add_to(venues_map)\n",
        "\n",
        "\n",
        "# add popular spots to the map as blue circle markers\n",
        "for lat, lng, label in zip(dataframe_filtered.lat, dataframe_filtered.lng, dataframe_filtered.categories):\n",
        "    folium.CircleMarker(\n",
        "        [lat, lng],\n",
        "        radius=5,\n",
        "        popup=label,\n",
        "        fill=True,\n",
        "        color='blue',\n",
        "        fill_color='blue',\n",
        "        fill_opacity=0.6\n",
        "        ).add_to(venues_map)\n",
        "\n",
        "# display map\n",
        "venues_map"
      ],
      "execution_count": 112,
      "outputs": [
        {
          "output_type": "execute_result",
          "data": {
            "text/html": [
              "<div style=\"width:100%;\"><div style=\"position:relative;width:100%;height:0;padding-bottom:60%;\"><iframe src=\"data:text/html;charset=utf-8;base64,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\" style=\"position:absolute;width:100%;height:100%;left:0;top:0;border:none !important;\" allowfullscreen webkitallowfullscreen mozallowfullscreen></iframe></div></div>"
            ],
            "text/plain": [
              "<folium.folium.Map at 0x7f186afcf828>"
            ]
          },
          "metadata": {
            "tags": []
          },
          "execution_count": 112
        }
      ]
    },
    {
      "cell_type": "code",
      "metadata": {
        "id": "PIQ8pkwoN108",
        "colab_type": "code",
        "outputId": "fc40a3a6-0f89-455e-e3ff-f0ded795921b",
        "colab": {
          "base_uri": "https://localhost:8080/",
          "height": 51
        }
      },
      "source": [
        "# define URL\n",
        "url = 'https://api.foursquare.com/v2/venues/trending?client_id={}&client_secret={}&ll={},{}&v={}'.format(CLIENT_ID, CLIENT_SECRET, latitude, longitude, VERSION)\n",
        "\n",
        "# send GET request and get trending venues\n",
        "results = requests.get(url).json()\n",
        "results"
      ],
      "execution_count": 113,
      "outputs": [
        {
          "output_type": "execute_result",
          "data": {
            "text/plain": [
              "{'meta': {'code': 200, 'requestId': '5d88a15023bb8e003804d055'},\n",
              " 'response': {'venues': []}}"
            ]
          },
          "metadata": {
            "tags": []
          },
          "execution_count": 113
        }
      ]
    },
    {
      "cell_type": "code",
      "metadata": {
        "id": "X-z3sffCOBHU",
        "colab_type": "code",
        "colab": {}
      },
      "source": [
        "if len(results['response']['venues']) == 0:\n",
        "    trending_venues_df = 'No trending venues are available at the moment!'\n",
        "    \n",
        "else:\n",
        "    trending_venues = results['response']['venues']\n",
        "    trending_venues_df = json_normalize(trending_venues)\n",
        "\n",
        "    # filter columns\n",
        "    columns_filtered = ['name', 'categories'] + ['location.distance', 'location.city', 'location.postalCode', 'location.state', 'location.country', 'location.lat', 'location.lng']\n",
        "    trending_venues_df = trending_venues_df.loc[:, columns_filtered]\n",
        "\n",
        "    # filter the category for each row\n",
        "    trending_venues_df['categories'] = trending_venues_df.apply(get_category_type, axis=1)"
      ],
      "execution_count": 0,
      "outputs": []
    },
    {
      "cell_type": "code",
      "metadata": {
        "id": "sicrxsqGOQPx",
        "colab_type": "code",
        "outputId": "3bb56ca3-8b96-44ac-d0bf-1bd84d779621",
        "colab": {
          "base_uri": "https://localhost:8080/",
          "height": 34
        }
      },
      "source": [
        "# display trending venues\n",
        "trending_venues_df"
      ],
      "execution_count": 115,
      "outputs": [
        {
          "output_type": "execute_result",
          "data": {
            "text/plain": [
              "'No trending venues are available at the moment!'"
            ]
          },
          "metadata": {
            "tags": []
          },
          "execution_count": 115
        }
      ]
    },
    {
      "cell_type": "code",
      "metadata": {
        "id": "Aj5mvnRaOS2E",
        "colab_type": "code",
        "colab": {}
      },
      "source": [
        "if len(results['response']['venues']) == 0:\n",
        "    venues_map = 'Cannot generate visual as no trending venues are available at the moment!'\n",
        "\n",
        "else:\n",
        "    venues_map = folium.Map(location=[latitude, longitude], zoom_start=15) # generate map centred around Ecco\n",
        "\n",
        "\n",
        "    # add Ecco as a red circle mark\n",
        "    folium.features.CircleMarker(\n",
        "        [latitude, longitude],\n",
        "        radius=10,\n",
        "        popup='Ecco',\n",
        "        fill=True,\n",
        "        color='red',\n",
        "        fill_color='red',\n",
        "        fill_opacity=0.6\n",
        "    ).add_to(venues_map)\n",
        "\n",
        "\n",
        "    # add the trending venues as blue circle markers\n",
        "    for lat, lng, label in zip(trending_venues_df['location.lat'], trending_venues_df['location.lng'], trending_venues_df['name']):\n",
        "        folium.features.CircleMarker(\n",
        "            [lat, lng],\n",
        "            radius=5,\n",
        "            poup=label,\n",
        "            fill=True,\n",
        "            color='blue',\n",
        "            fill_color='blue',\n",
        "            fill_opacity=0.6\n",
        "        ).add_to(venues_map)"
      ],
      "execution_count": 0,
      "outputs": []
    },
    {
      "cell_type": "code",
      "metadata": {
        "id": "a85nABt5Oa4U",
        "colab_type": "code",
        "outputId": "16727c44-b637-470c-afcc-d54322453212",
        "colab": {
          "base_uri": "https://localhost:8080/",
          "height": 34
        }
      },
      "source": [
        "# display map\n",
        "venues_map"
      ],
      "execution_count": 117,
      "outputs": [
        {
          "output_type": "execute_result",
          "data": {
            "text/plain": [
              "'Cannot generate visual as no trending venues are available at the moment!'"
            ]
          },
          "metadata": {
            "tags": []
          },
          "execution_count": 117
        }
      ]
    },
    {
      "cell_type": "code",
      "metadata": {
        "id": "xDz51ah9tmT0",
        "colab_type": "code",
        "colab": {}
      },
      "source": [
        ""
      ],
      "execution_count": 0,
      "outputs": []
    }
  ]
}